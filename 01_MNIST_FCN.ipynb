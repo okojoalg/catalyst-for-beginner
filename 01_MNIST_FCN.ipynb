{
  "nbformat": 4,
  "nbformat_minor": 0,
  "metadata": {
    "accelerator": "GPU",
    "colab": {
      "name": "01_MNIST_FCN.ipynb",
      "provenance": [],
      "collapsed_sections": [],
      "authorship_tag": "ABX9TyOvClLuPdEwUHYYHzkNIn+q",
      "include_colab_link": true
    },
    "kernelspec": {
      "display_name": "Python 3",
      "name": "python3"
    },
    "widgets": {
      "application/vnd.jupyter.widget-state+json": {
        "22c095fcec0c4d778dfe9003c6eff7f8": {
          "model_module": "@jupyter-widgets/controls",
          "model_name": "HBoxModel",
          "state": {
            "_view_name": "HBoxView",
            "_dom_classes": [],
            "_model_name": "HBoxModel",
            "_view_module": "@jupyter-widgets/controls",
            "_model_module_version": "1.5.0",
            "_view_count": null,
            "_view_module_version": "1.5.0",
            "box_style": "",
            "layout": "IPY_MODEL_9a28d6516b714f9e97477ed78138278b",
            "_model_module": "@jupyter-widgets/controls",
            "children": [
              "IPY_MODEL_26bc25aa72804f8aa3a58db2d2719196",
              "IPY_MODEL_819bab8b7a0c4edf823b6eeb1930ecc4"
            ]
          }
        },
        "9a28d6516b714f9e97477ed78138278b": {
          "model_module": "@jupyter-widgets/base",
          "model_name": "LayoutModel",
          "state": {
            "_view_name": "LayoutView",
            "grid_template_rows": null,
            "right": null,
            "justify_content": null,
            "_view_module": "@jupyter-widgets/base",
            "overflow": null,
            "_model_module_version": "1.2.0",
            "_view_count": null,
            "flex_flow": null,
            "width": null,
            "min_width": null,
            "border": null,
            "align_items": null,
            "bottom": null,
            "_model_module": "@jupyter-widgets/base",
            "top": null,
            "grid_column": null,
            "overflow_y": null,
            "overflow_x": null,
            "grid_auto_flow": null,
            "grid_area": null,
            "grid_template_columns": null,
            "flex": null,
            "_model_name": "LayoutModel",
            "justify_items": null,
            "grid_row": null,
            "max_height": null,
            "align_content": null,
            "visibility": null,
            "align_self": null,
            "height": null,
            "min_height": null,
            "padding": null,
            "grid_auto_rows": null,
            "grid_gap": null,
            "max_width": null,
            "order": null,
            "_view_module_version": "1.2.0",
            "grid_template_areas": null,
            "object_position": null,
            "object_fit": null,
            "grid_auto_columns": null,
            "margin": null,
            "display": null,
            "left": null
          }
        },
        "26bc25aa72804f8aa3a58db2d2719196": {
          "model_module": "@jupyter-widgets/controls",
          "model_name": "FloatProgressModel",
          "state": {
            "_view_name": "ProgressView",
            "style": "IPY_MODEL_028ad30fff204ece9219794a964f5acc",
            "_dom_classes": [],
            "description": "",
            "_model_name": "FloatProgressModel",
            "bar_style": "success",
            "max": 1,
            "_view_module": "@jupyter-widgets/controls",
            "_model_module_version": "1.5.0",
            "value": 1,
            "_view_count": null,
            "_view_module_version": "1.5.0",
            "orientation": "horizontal",
            "min": 0,
            "description_tooltip": null,
            "_model_module": "@jupyter-widgets/controls",
            "layout": "IPY_MODEL_8990a319c264473a951df17e83d2f295"
          }
        },
        "819bab8b7a0c4edf823b6eeb1930ecc4": {
          "model_module": "@jupyter-widgets/controls",
          "model_name": "HTMLModel",
          "state": {
            "_view_name": "HTMLView",
            "style": "IPY_MODEL_bee177d0c97e4eb280fdd85caea622e4",
            "_dom_classes": [],
            "description": "",
            "_model_name": "HTMLModel",
            "placeholder": "​",
            "_view_module": "@jupyter-widgets/controls",
            "_model_module_version": "1.5.0",
            "value": " 9920512/? [00:01&lt;00:00, 6973146.40it/s]",
            "_view_count": null,
            "_view_module_version": "1.5.0",
            "description_tooltip": null,
            "_model_module": "@jupyter-widgets/controls",
            "layout": "IPY_MODEL_b36dd661876c42a49e5fad78635b18c8"
          }
        },
        "028ad30fff204ece9219794a964f5acc": {
          "model_module": "@jupyter-widgets/controls",
          "model_name": "ProgressStyleModel",
          "state": {
            "_view_name": "StyleView",
            "_model_name": "ProgressStyleModel",
            "description_width": "initial",
            "_view_module": "@jupyter-widgets/base",
            "_model_module_version": "1.5.0",
            "_view_count": null,
            "_view_module_version": "1.2.0",
            "bar_color": null,
            "_model_module": "@jupyter-widgets/controls"
          }
        },
        "8990a319c264473a951df17e83d2f295": {
          "model_module": "@jupyter-widgets/base",
          "model_name": "LayoutModel",
          "state": {
            "_view_name": "LayoutView",
            "grid_template_rows": null,
            "right": null,
            "justify_content": null,
            "_view_module": "@jupyter-widgets/base",
            "overflow": null,
            "_model_module_version": "1.2.0",
            "_view_count": null,
            "flex_flow": null,
            "width": null,
            "min_width": null,
            "border": null,
            "align_items": null,
            "bottom": null,
            "_model_module": "@jupyter-widgets/base",
            "top": null,
            "grid_column": null,
            "overflow_y": null,
            "overflow_x": null,
            "grid_auto_flow": null,
            "grid_area": null,
            "grid_template_columns": null,
            "flex": null,
            "_model_name": "LayoutModel",
            "justify_items": null,
            "grid_row": null,
            "max_height": null,
            "align_content": null,
            "visibility": null,
            "align_self": null,
            "height": null,
            "min_height": null,
            "padding": null,
            "grid_auto_rows": null,
            "grid_gap": null,
            "max_width": null,
            "order": null,
            "_view_module_version": "1.2.0",
            "grid_template_areas": null,
            "object_position": null,
            "object_fit": null,
            "grid_auto_columns": null,
            "margin": null,
            "display": null,
            "left": null
          }
        },
        "bee177d0c97e4eb280fdd85caea622e4": {
          "model_module": "@jupyter-widgets/controls",
          "model_name": "DescriptionStyleModel",
          "state": {
            "_view_name": "StyleView",
            "_model_name": "DescriptionStyleModel",
            "description_width": "",
            "_view_module": "@jupyter-widgets/base",
            "_model_module_version": "1.5.0",
            "_view_count": null,
            "_view_module_version": "1.2.0",
            "_model_module": "@jupyter-widgets/controls"
          }
        },
        "b36dd661876c42a49e5fad78635b18c8": {
          "model_module": "@jupyter-widgets/base",
          "model_name": "LayoutModel",
          "state": {
            "_view_name": "LayoutView",
            "grid_template_rows": null,
            "right": null,
            "justify_content": null,
            "_view_module": "@jupyter-widgets/base",
            "overflow": null,
            "_model_module_version": "1.2.0",
            "_view_count": null,
            "flex_flow": null,
            "width": null,
            "min_width": null,
            "border": null,
            "align_items": null,
            "bottom": null,
            "_model_module": "@jupyter-widgets/base",
            "top": null,
            "grid_column": null,
            "overflow_y": null,
            "overflow_x": null,
            "grid_auto_flow": null,
            "grid_area": null,
            "grid_template_columns": null,
            "flex": null,
            "_model_name": "LayoutModel",
            "justify_items": null,
            "grid_row": null,
            "max_height": null,
            "align_content": null,
            "visibility": null,
            "align_self": null,
            "height": null,
            "min_height": null,
            "padding": null,
            "grid_auto_rows": null,
            "grid_gap": null,
            "max_width": null,
            "order": null,
            "_view_module_version": "1.2.0",
            "grid_template_areas": null,
            "object_position": null,
            "object_fit": null,
            "grid_auto_columns": null,
            "margin": null,
            "display": null,
            "left": null
          }
        },
        "a642707ebe3e4b2aa367f379163c832f": {
          "model_module": "@jupyter-widgets/controls",
          "model_name": "HBoxModel",
          "state": {
            "_view_name": "HBoxView",
            "_dom_classes": [],
            "_model_name": "HBoxModel",
            "_view_module": "@jupyter-widgets/controls",
            "_model_module_version": "1.5.0",
            "_view_count": null,
            "_view_module_version": "1.5.0",
            "box_style": "",
            "layout": "IPY_MODEL_b5d95301ef7d4162bf6b8d6bc402e8aa",
            "_model_module": "@jupyter-widgets/controls",
            "children": [
              "IPY_MODEL_b356a812ab1d4c5f91a5773fe94f2e58",
              "IPY_MODEL_8d0978545e58418ab2a3cf81c1093192"
            ]
          }
        },
        "b5d95301ef7d4162bf6b8d6bc402e8aa": {
          "model_module": "@jupyter-widgets/base",
          "model_name": "LayoutModel",
          "state": {
            "_view_name": "LayoutView",
            "grid_template_rows": null,
            "right": null,
            "justify_content": null,
            "_view_module": "@jupyter-widgets/base",
            "overflow": null,
            "_model_module_version": "1.2.0",
            "_view_count": null,
            "flex_flow": null,
            "width": null,
            "min_width": null,
            "border": null,
            "align_items": null,
            "bottom": null,
            "_model_module": "@jupyter-widgets/base",
            "top": null,
            "grid_column": null,
            "overflow_y": null,
            "overflow_x": null,
            "grid_auto_flow": null,
            "grid_area": null,
            "grid_template_columns": null,
            "flex": null,
            "_model_name": "LayoutModel",
            "justify_items": null,
            "grid_row": null,
            "max_height": null,
            "align_content": null,
            "visibility": null,
            "align_self": null,
            "height": null,
            "min_height": null,
            "padding": null,
            "grid_auto_rows": null,
            "grid_gap": null,
            "max_width": null,
            "order": null,
            "_view_module_version": "1.2.0",
            "grid_template_areas": null,
            "object_position": null,
            "object_fit": null,
            "grid_auto_columns": null,
            "margin": null,
            "display": null,
            "left": null
          }
        },
        "b356a812ab1d4c5f91a5773fe94f2e58": {
          "model_module": "@jupyter-widgets/controls",
          "model_name": "FloatProgressModel",
          "state": {
            "_view_name": "ProgressView",
            "style": "IPY_MODEL_1b2c6eb4cd874ee99e957bdce7bd6b61",
            "_dom_classes": [],
            "description": "",
            "_model_name": "FloatProgressModel",
            "bar_style": "success",
            "max": 1,
            "_view_module": "@jupyter-widgets/controls",
            "_model_module_version": "1.5.0",
            "value": 1,
            "_view_count": null,
            "_view_module_version": "1.5.0",
            "orientation": "horizontal",
            "min": 0,
            "description_tooltip": null,
            "_model_module": "@jupyter-widgets/controls",
            "layout": "IPY_MODEL_72a0609b76d1428f82f6169575dc7be8"
          }
        },
        "8d0978545e58418ab2a3cf81c1093192": {
          "model_module": "@jupyter-widgets/controls",
          "model_name": "HTMLModel",
          "state": {
            "_view_name": "HTMLView",
            "style": "IPY_MODEL_279652e3095046b5834e134840f0b3d1",
            "_dom_classes": [],
            "description": "",
            "_model_name": "HTMLModel",
            "placeholder": "​",
            "_view_module": "@jupyter-widgets/controls",
            "_model_module_version": "1.5.0",
            "value": " 32768/? [00:04&lt;00:00, 7072.91it/s]",
            "_view_count": null,
            "_view_module_version": "1.5.0",
            "description_tooltip": null,
            "_model_module": "@jupyter-widgets/controls",
            "layout": "IPY_MODEL_2fbd08e011084a91a6b0d7552ede3fc2"
          }
        },
        "1b2c6eb4cd874ee99e957bdce7bd6b61": {
          "model_module": "@jupyter-widgets/controls",
          "model_name": "ProgressStyleModel",
          "state": {
            "_view_name": "StyleView",
            "_model_name": "ProgressStyleModel",
            "description_width": "initial",
            "_view_module": "@jupyter-widgets/base",
            "_model_module_version": "1.5.0",
            "_view_count": null,
            "_view_module_version": "1.2.0",
            "bar_color": null,
            "_model_module": "@jupyter-widgets/controls"
          }
        },
        "72a0609b76d1428f82f6169575dc7be8": {
          "model_module": "@jupyter-widgets/base",
          "model_name": "LayoutModel",
          "state": {
            "_view_name": "LayoutView",
            "grid_template_rows": null,
            "right": null,
            "justify_content": null,
            "_view_module": "@jupyter-widgets/base",
            "overflow": null,
            "_model_module_version": "1.2.0",
            "_view_count": null,
            "flex_flow": null,
            "width": null,
            "min_width": null,
            "border": null,
            "align_items": null,
            "bottom": null,
            "_model_module": "@jupyter-widgets/base",
            "top": null,
            "grid_column": null,
            "overflow_y": null,
            "overflow_x": null,
            "grid_auto_flow": null,
            "grid_area": null,
            "grid_template_columns": null,
            "flex": null,
            "_model_name": "LayoutModel",
            "justify_items": null,
            "grid_row": null,
            "max_height": null,
            "align_content": null,
            "visibility": null,
            "align_self": null,
            "height": null,
            "min_height": null,
            "padding": null,
            "grid_auto_rows": null,
            "grid_gap": null,
            "max_width": null,
            "order": null,
            "_view_module_version": "1.2.0",
            "grid_template_areas": null,
            "object_position": null,
            "object_fit": null,
            "grid_auto_columns": null,
            "margin": null,
            "display": null,
            "left": null
          }
        },
        "279652e3095046b5834e134840f0b3d1": {
          "model_module": "@jupyter-widgets/controls",
          "model_name": "DescriptionStyleModel",
          "state": {
            "_view_name": "StyleView",
            "_model_name": "DescriptionStyleModel",
            "description_width": "",
            "_view_module": "@jupyter-widgets/base",
            "_model_module_version": "1.5.0",
            "_view_count": null,
            "_view_module_version": "1.2.0",
            "_model_module": "@jupyter-widgets/controls"
          }
        },
        "2fbd08e011084a91a6b0d7552ede3fc2": {
          "model_module": "@jupyter-widgets/base",
          "model_name": "LayoutModel",
          "state": {
            "_view_name": "LayoutView",
            "grid_template_rows": null,
            "right": null,
            "justify_content": null,
            "_view_module": "@jupyter-widgets/base",
            "overflow": null,
            "_model_module_version": "1.2.0",
            "_view_count": null,
            "flex_flow": null,
            "width": null,
            "min_width": null,
            "border": null,
            "align_items": null,
            "bottom": null,
            "_model_module": "@jupyter-widgets/base",
            "top": null,
            "grid_column": null,
            "overflow_y": null,
            "overflow_x": null,
            "grid_auto_flow": null,
            "grid_area": null,
            "grid_template_columns": null,
            "flex": null,
            "_model_name": "LayoutModel",
            "justify_items": null,
            "grid_row": null,
            "max_height": null,
            "align_content": null,
            "visibility": null,
            "align_self": null,
            "height": null,
            "min_height": null,
            "padding": null,
            "grid_auto_rows": null,
            "grid_gap": null,
            "max_width": null,
            "order": null,
            "_view_module_version": "1.2.0",
            "grid_template_areas": null,
            "object_position": null,
            "object_fit": null,
            "grid_auto_columns": null,
            "margin": null,
            "display": null,
            "left": null
          }
        },
        "91ad7e55dded4e948f84ca35492cf6af": {
          "model_module": "@jupyter-widgets/controls",
          "model_name": "HBoxModel",
          "state": {
            "_view_name": "HBoxView",
            "_dom_classes": [],
            "_model_name": "HBoxModel",
            "_view_module": "@jupyter-widgets/controls",
            "_model_module_version": "1.5.0",
            "_view_count": null,
            "_view_module_version": "1.5.0",
            "box_style": "",
            "layout": "IPY_MODEL_f2806991a33e495f8508d690b09ce082",
            "_model_module": "@jupyter-widgets/controls",
            "children": [
              "IPY_MODEL_c7e31221f53d4110b3ae6d18714971eb",
              "IPY_MODEL_7503d7b5e3824deab47099d2af3bd265"
            ]
          }
        },
        "f2806991a33e495f8508d690b09ce082": {
          "model_module": "@jupyter-widgets/base",
          "model_name": "LayoutModel",
          "state": {
            "_view_name": "LayoutView",
            "grid_template_rows": null,
            "right": null,
            "justify_content": null,
            "_view_module": "@jupyter-widgets/base",
            "overflow": null,
            "_model_module_version": "1.2.0",
            "_view_count": null,
            "flex_flow": null,
            "width": null,
            "min_width": null,
            "border": null,
            "align_items": null,
            "bottom": null,
            "_model_module": "@jupyter-widgets/base",
            "top": null,
            "grid_column": null,
            "overflow_y": null,
            "overflow_x": null,
            "grid_auto_flow": null,
            "grid_area": null,
            "grid_template_columns": null,
            "flex": null,
            "_model_name": "LayoutModel",
            "justify_items": null,
            "grid_row": null,
            "max_height": null,
            "align_content": null,
            "visibility": null,
            "align_self": null,
            "height": null,
            "min_height": null,
            "padding": null,
            "grid_auto_rows": null,
            "grid_gap": null,
            "max_width": null,
            "order": null,
            "_view_module_version": "1.2.0",
            "grid_template_areas": null,
            "object_position": null,
            "object_fit": null,
            "grid_auto_columns": null,
            "margin": null,
            "display": null,
            "left": null
          }
        },
        "c7e31221f53d4110b3ae6d18714971eb": {
          "model_module": "@jupyter-widgets/controls",
          "model_name": "FloatProgressModel",
          "state": {
            "_view_name": "ProgressView",
            "style": "IPY_MODEL_407b84f4fb1b46139fe4ce542dd47fd1",
            "_dom_classes": [],
            "description": "",
            "_model_name": "FloatProgressModel",
            "bar_style": "success",
            "max": 1,
            "_view_module": "@jupyter-widgets/controls",
            "_model_module_version": "1.5.0",
            "value": 1,
            "_view_count": null,
            "_view_module_version": "1.5.0",
            "orientation": "horizontal",
            "min": 0,
            "description_tooltip": null,
            "_model_module": "@jupyter-widgets/controls",
            "layout": "IPY_MODEL_5d2f0fdef48f4a9f9572413f178db33a"
          }
        },
        "7503d7b5e3824deab47099d2af3bd265": {
          "model_module": "@jupyter-widgets/controls",
          "model_name": "HTMLModel",
          "state": {
            "_view_name": "HTMLView",
            "style": "IPY_MODEL_5e90d76680564543a6806d90121191a0",
            "_dom_classes": [],
            "description": "",
            "_model_name": "HTMLModel",
            "placeholder": "​",
            "_view_module": "@jupyter-widgets/controls",
            "_model_module_version": "1.5.0",
            "value": " 1654784/? [00:01&lt;00:00, 1360396.31it/s]",
            "_view_count": null,
            "_view_module_version": "1.5.0",
            "description_tooltip": null,
            "_model_module": "@jupyter-widgets/controls",
            "layout": "IPY_MODEL_dc1d640c067144d8aea6d224924e96ba"
          }
        },
        "407b84f4fb1b46139fe4ce542dd47fd1": {
          "model_module": "@jupyter-widgets/controls",
          "model_name": "ProgressStyleModel",
          "state": {
            "_view_name": "StyleView",
            "_model_name": "ProgressStyleModel",
            "description_width": "initial",
            "_view_module": "@jupyter-widgets/base",
            "_model_module_version": "1.5.0",
            "_view_count": null,
            "_view_module_version": "1.2.0",
            "bar_color": null,
            "_model_module": "@jupyter-widgets/controls"
          }
        },
        "5d2f0fdef48f4a9f9572413f178db33a": {
          "model_module": "@jupyter-widgets/base",
          "model_name": "LayoutModel",
          "state": {
            "_view_name": "LayoutView",
            "grid_template_rows": null,
            "right": null,
            "justify_content": null,
            "_view_module": "@jupyter-widgets/base",
            "overflow": null,
            "_model_module_version": "1.2.0",
            "_view_count": null,
            "flex_flow": null,
            "width": null,
            "min_width": null,
            "border": null,
            "align_items": null,
            "bottom": null,
            "_model_module": "@jupyter-widgets/base",
            "top": null,
            "grid_column": null,
            "overflow_y": null,
            "overflow_x": null,
            "grid_auto_flow": null,
            "grid_area": null,
            "grid_template_columns": null,
            "flex": null,
            "_model_name": "LayoutModel",
            "justify_items": null,
            "grid_row": null,
            "max_height": null,
            "align_content": null,
            "visibility": null,
            "align_self": null,
            "height": null,
            "min_height": null,
            "padding": null,
            "grid_auto_rows": null,
            "grid_gap": null,
            "max_width": null,
            "order": null,
            "_view_module_version": "1.2.0",
            "grid_template_areas": null,
            "object_position": null,
            "object_fit": null,
            "grid_auto_columns": null,
            "margin": null,
            "display": null,
            "left": null
          }
        },
        "5e90d76680564543a6806d90121191a0": {
          "model_module": "@jupyter-widgets/controls",
          "model_name": "DescriptionStyleModel",
          "state": {
            "_view_name": "StyleView",
            "_model_name": "DescriptionStyleModel",
            "description_width": "",
            "_view_module": "@jupyter-widgets/base",
            "_model_module_version": "1.5.0",
            "_view_count": null,
            "_view_module_version": "1.2.0",
            "_model_module": "@jupyter-widgets/controls"
          }
        },
        "dc1d640c067144d8aea6d224924e96ba": {
          "model_module": "@jupyter-widgets/base",
          "model_name": "LayoutModel",
          "state": {
            "_view_name": "LayoutView",
            "grid_template_rows": null,
            "right": null,
            "justify_content": null,
            "_view_module": "@jupyter-widgets/base",
            "overflow": null,
            "_model_module_version": "1.2.0",
            "_view_count": null,
            "flex_flow": null,
            "width": null,
            "min_width": null,
            "border": null,
            "align_items": null,
            "bottom": null,
            "_model_module": "@jupyter-widgets/base",
            "top": null,
            "grid_column": null,
            "overflow_y": null,
            "overflow_x": null,
            "grid_auto_flow": null,
            "grid_area": null,
            "grid_template_columns": null,
            "flex": null,
            "_model_name": "LayoutModel",
            "justify_items": null,
            "grid_row": null,
            "max_height": null,
            "align_content": null,
            "visibility": null,
            "align_self": null,
            "height": null,
            "min_height": null,
            "padding": null,
            "grid_auto_rows": null,
            "grid_gap": null,
            "max_width": null,
            "order": null,
            "_view_module_version": "1.2.0",
            "grid_template_areas": null,
            "object_position": null,
            "object_fit": null,
            "grid_auto_columns": null,
            "margin": null,
            "display": null,
            "left": null
          }
        },
        "8fa9892d8a974252b09d9960d28ae6b6": {
          "model_module": "@jupyter-widgets/controls",
          "model_name": "HBoxModel",
          "state": {
            "_view_name": "HBoxView",
            "_dom_classes": [],
            "_model_name": "HBoxModel",
            "_view_module": "@jupyter-widgets/controls",
            "_model_module_version": "1.5.0",
            "_view_count": null,
            "_view_module_version": "1.5.0",
            "box_style": "",
            "layout": "IPY_MODEL_3599c8593cba44e0985794e8ac03ff20",
            "_model_module": "@jupyter-widgets/controls",
            "children": [
              "IPY_MODEL_7043673d9d454a67b230648d6a587332",
              "IPY_MODEL_6053080a67a3455999a3db94d2bf4e6d"
            ]
          }
        },
        "3599c8593cba44e0985794e8ac03ff20": {
          "model_module": "@jupyter-widgets/base",
          "model_name": "LayoutModel",
          "state": {
            "_view_name": "LayoutView",
            "grid_template_rows": null,
            "right": null,
            "justify_content": null,
            "_view_module": "@jupyter-widgets/base",
            "overflow": null,
            "_model_module_version": "1.2.0",
            "_view_count": null,
            "flex_flow": null,
            "width": null,
            "min_width": null,
            "border": null,
            "align_items": null,
            "bottom": null,
            "_model_module": "@jupyter-widgets/base",
            "top": null,
            "grid_column": null,
            "overflow_y": null,
            "overflow_x": null,
            "grid_auto_flow": null,
            "grid_area": null,
            "grid_template_columns": null,
            "flex": null,
            "_model_name": "LayoutModel",
            "justify_items": null,
            "grid_row": null,
            "max_height": null,
            "align_content": null,
            "visibility": null,
            "align_self": null,
            "height": null,
            "min_height": null,
            "padding": null,
            "grid_auto_rows": null,
            "grid_gap": null,
            "max_width": null,
            "order": null,
            "_view_module_version": "1.2.0",
            "grid_template_areas": null,
            "object_position": null,
            "object_fit": null,
            "grid_auto_columns": null,
            "margin": null,
            "display": null,
            "left": null
          }
        },
        "7043673d9d454a67b230648d6a587332": {
          "model_module": "@jupyter-widgets/controls",
          "model_name": "FloatProgressModel",
          "state": {
            "_view_name": "ProgressView",
            "style": "IPY_MODEL_39d3c8cbeb9b4956b1f4112c3a01dac5",
            "_dom_classes": [],
            "description": "",
            "_model_name": "FloatProgressModel",
            "bar_style": "success",
            "max": 1,
            "_view_module": "@jupyter-widgets/controls",
            "_model_module_version": "1.5.0",
            "value": 1,
            "_view_count": null,
            "_view_module_version": "1.5.0",
            "orientation": "horizontal",
            "min": 0,
            "description_tooltip": null,
            "_model_module": "@jupyter-widgets/controls",
            "layout": "IPY_MODEL_369649de05cd43a4a49ce106707a618f"
          }
        },
        "6053080a67a3455999a3db94d2bf4e6d": {
          "model_module": "@jupyter-widgets/controls",
          "model_name": "HTMLModel",
          "state": {
            "_view_name": "HTMLView",
            "style": "IPY_MODEL_d7d202ebdd184c79bb74443bbb769a1d",
            "_dom_classes": [],
            "description": "",
            "_model_name": "HTMLModel",
            "placeholder": "​",
            "_view_module": "@jupyter-widgets/controls",
            "_model_module_version": "1.5.0",
            "value": " 8192/? [00:00&lt;00:00, 18918.09it/s]",
            "_view_count": null,
            "_view_module_version": "1.5.0",
            "description_tooltip": null,
            "_model_module": "@jupyter-widgets/controls",
            "layout": "IPY_MODEL_0a51b55d043844438b3a266f60e8cc22"
          }
        },
        "39d3c8cbeb9b4956b1f4112c3a01dac5": {
          "model_module": "@jupyter-widgets/controls",
          "model_name": "ProgressStyleModel",
          "state": {
            "_view_name": "StyleView",
            "_model_name": "ProgressStyleModel",
            "description_width": "initial",
            "_view_module": "@jupyter-widgets/base",
            "_model_module_version": "1.5.0",
            "_view_count": null,
            "_view_module_version": "1.2.0",
            "bar_color": null,
            "_model_module": "@jupyter-widgets/controls"
          }
        },
        "369649de05cd43a4a49ce106707a618f": {
          "model_module": "@jupyter-widgets/base",
          "model_name": "LayoutModel",
          "state": {
            "_view_name": "LayoutView",
            "grid_template_rows": null,
            "right": null,
            "justify_content": null,
            "_view_module": "@jupyter-widgets/base",
            "overflow": null,
            "_model_module_version": "1.2.0",
            "_view_count": null,
            "flex_flow": null,
            "width": null,
            "min_width": null,
            "border": null,
            "align_items": null,
            "bottom": null,
            "_model_module": "@jupyter-widgets/base",
            "top": null,
            "grid_column": null,
            "overflow_y": null,
            "overflow_x": null,
            "grid_auto_flow": null,
            "grid_area": null,
            "grid_template_columns": null,
            "flex": null,
            "_model_name": "LayoutModel",
            "justify_items": null,
            "grid_row": null,
            "max_height": null,
            "align_content": null,
            "visibility": null,
            "align_self": null,
            "height": null,
            "min_height": null,
            "padding": null,
            "grid_auto_rows": null,
            "grid_gap": null,
            "max_width": null,
            "order": null,
            "_view_module_version": "1.2.0",
            "grid_template_areas": null,
            "object_position": null,
            "object_fit": null,
            "grid_auto_columns": null,
            "margin": null,
            "display": null,
            "left": null
          }
        },
        "d7d202ebdd184c79bb74443bbb769a1d": {
          "model_module": "@jupyter-widgets/controls",
          "model_name": "DescriptionStyleModel",
          "state": {
            "_view_name": "StyleView",
            "_model_name": "DescriptionStyleModel",
            "description_width": "",
            "_view_module": "@jupyter-widgets/base",
            "_model_module_version": "1.5.0",
            "_view_count": null,
            "_view_module_version": "1.2.0",
            "_model_module": "@jupyter-widgets/controls"
          }
        },
        "0a51b55d043844438b3a266f60e8cc22": {
          "model_module": "@jupyter-widgets/base",
          "model_name": "LayoutModel",
          "state": {
            "_view_name": "LayoutView",
            "grid_template_rows": null,
            "right": null,
            "justify_content": null,
            "_view_module": "@jupyter-widgets/base",
            "overflow": null,
            "_model_module_version": "1.2.0",
            "_view_count": null,
            "flex_flow": null,
            "width": null,
            "min_width": null,
            "border": null,
            "align_items": null,
            "bottom": null,
            "_model_module": "@jupyter-widgets/base",
            "top": null,
            "grid_column": null,
            "overflow_y": null,
            "overflow_x": null,
            "grid_auto_flow": null,
            "grid_area": null,
            "grid_template_columns": null,
            "flex": null,
            "_model_name": "LayoutModel",
            "justify_items": null,
            "grid_row": null,
            "max_height": null,
            "align_content": null,
            "visibility": null,
            "align_self": null,
            "height": null,
            "min_height": null,
            "padding": null,
            "grid_auto_rows": null,
            "grid_gap": null,
            "max_width": null,
            "order": null,
            "_view_module_version": "1.2.0",
            "grid_template_areas": null,
            "object_position": null,
            "object_fit": null,
            "grid_auto_columns": null,
            "margin": null,
            "display": null,
            "left": null
          }
        },
        "e7d4ac3686bb432ab542bdebab05b399": {
          "model_module": "@jupyter-widgets/controls",
          "model_name": "HBoxModel",
          "state": {
            "_view_name": "HBoxView",
            "_dom_classes": [],
            "_model_name": "HBoxModel",
            "_view_module": "@jupyter-widgets/controls",
            "_model_module_version": "1.5.0",
            "_view_count": null,
            "_view_module_version": "1.5.0",
            "box_style": "",
            "layout": "IPY_MODEL_0d7539205b894ffd919def0f63f51f7c",
            "_model_module": "@jupyter-widgets/controls",
            "children": [
              "IPY_MODEL_51278994c578464d8860e9921068e87e",
              "IPY_MODEL_d4450d0ffe1e4d1fafb68cf97838b213"
            ]
          }
        },
        "0d7539205b894ffd919def0f63f51f7c": {
          "model_module": "@jupyter-widgets/base",
          "model_name": "LayoutModel",
          "state": {
            "_view_name": "LayoutView",
            "grid_template_rows": null,
            "right": null,
            "justify_content": null,
            "_view_module": "@jupyter-widgets/base",
            "overflow": null,
            "_model_module_version": "1.2.0",
            "_view_count": null,
            "flex_flow": null,
            "width": null,
            "min_width": null,
            "border": null,
            "align_items": null,
            "bottom": null,
            "_model_module": "@jupyter-widgets/base",
            "top": null,
            "grid_column": null,
            "overflow_y": null,
            "overflow_x": null,
            "grid_auto_flow": null,
            "grid_area": null,
            "grid_template_columns": null,
            "flex": null,
            "_model_name": "LayoutModel",
            "justify_items": null,
            "grid_row": null,
            "max_height": null,
            "align_content": null,
            "visibility": null,
            "align_self": null,
            "height": null,
            "min_height": null,
            "padding": null,
            "grid_auto_rows": null,
            "grid_gap": null,
            "max_width": null,
            "order": null,
            "_view_module_version": "1.2.0",
            "grid_template_areas": null,
            "object_position": null,
            "object_fit": null,
            "grid_auto_columns": null,
            "margin": null,
            "display": null,
            "left": null
          }
        },
        "51278994c578464d8860e9921068e87e": {
          "model_module": "@jupyter-widgets/controls",
          "model_name": "FloatProgressModel",
          "state": {
            "_view_name": "ProgressView",
            "style": "IPY_MODEL_8f1e6822719e4098b7bb1c44776cb9f5",
            "_dom_classes": [],
            "description": "",
            "_model_name": "FloatProgressModel",
            "bar_style": "success",
            "max": 1,
            "_view_module": "@jupyter-widgets/controls",
            "_model_module_version": "1.5.0",
            "value": 1,
            "_view_count": null,
            "_view_module_version": "1.5.0",
            "orientation": "horizontal",
            "min": 0,
            "description_tooltip": null,
            "_model_module": "@jupyter-widgets/controls",
            "layout": "IPY_MODEL_84db864b6e2047cead740ab9212ccd28"
          }
        },
        "d4450d0ffe1e4d1fafb68cf97838b213": {
          "model_module": "@jupyter-widgets/controls",
          "model_name": "HTMLModel",
          "state": {
            "_view_name": "HTMLView",
            "style": "IPY_MODEL_b7132c886b1248b390b2eb4942d3021b",
            "_dom_classes": [],
            "description": "",
            "_model_name": "HTMLModel",
            "placeholder": "​",
            "_view_module": "@jupyter-widgets/controls",
            "_model_module_version": "1.5.0",
            "value": " 9920512/? [00:03&lt;00:00, 3163438.76it/s]",
            "_view_count": null,
            "_view_module_version": "1.5.0",
            "description_tooltip": null,
            "_model_module": "@jupyter-widgets/controls",
            "layout": "IPY_MODEL_b5e35a27c5a645c4b0edf44a7f7ff893"
          }
        },
        "8f1e6822719e4098b7bb1c44776cb9f5": {
          "model_module": "@jupyter-widgets/controls",
          "model_name": "ProgressStyleModel",
          "state": {
            "_view_name": "StyleView",
            "_model_name": "ProgressStyleModel",
            "description_width": "initial",
            "_view_module": "@jupyter-widgets/base",
            "_model_module_version": "1.5.0",
            "_view_count": null,
            "_view_module_version": "1.2.0",
            "bar_color": null,
            "_model_module": "@jupyter-widgets/controls"
          }
        },
        "84db864b6e2047cead740ab9212ccd28": {
          "model_module": "@jupyter-widgets/base",
          "model_name": "LayoutModel",
          "state": {
            "_view_name": "LayoutView",
            "grid_template_rows": null,
            "right": null,
            "justify_content": null,
            "_view_module": "@jupyter-widgets/base",
            "overflow": null,
            "_model_module_version": "1.2.0",
            "_view_count": null,
            "flex_flow": null,
            "width": null,
            "min_width": null,
            "border": null,
            "align_items": null,
            "bottom": null,
            "_model_module": "@jupyter-widgets/base",
            "top": null,
            "grid_column": null,
            "overflow_y": null,
            "overflow_x": null,
            "grid_auto_flow": null,
            "grid_area": null,
            "grid_template_columns": null,
            "flex": null,
            "_model_name": "LayoutModel",
            "justify_items": null,
            "grid_row": null,
            "max_height": null,
            "align_content": null,
            "visibility": null,
            "align_self": null,
            "height": null,
            "min_height": null,
            "padding": null,
            "grid_auto_rows": null,
            "grid_gap": null,
            "max_width": null,
            "order": null,
            "_view_module_version": "1.2.0",
            "grid_template_areas": null,
            "object_position": null,
            "object_fit": null,
            "grid_auto_columns": null,
            "margin": null,
            "display": null,
            "left": null
          }
        },
        "b7132c886b1248b390b2eb4942d3021b": {
          "model_module": "@jupyter-widgets/controls",
          "model_name": "DescriptionStyleModel",
          "state": {
            "_view_name": "StyleView",
            "_model_name": "DescriptionStyleModel",
            "description_width": "",
            "_view_module": "@jupyter-widgets/base",
            "_model_module_version": "1.5.0",
            "_view_count": null,
            "_view_module_version": "1.2.0",
            "_model_module": "@jupyter-widgets/controls"
          }
        },
        "b5e35a27c5a645c4b0edf44a7f7ff893": {
          "model_module": "@jupyter-widgets/base",
          "model_name": "LayoutModel",
          "state": {
            "_view_name": "LayoutView",
            "grid_template_rows": null,
            "right": null,
            "justify_content": null,
            "_view_module": "@jupyter-widgets/base",
            "overflow": null,
            "_model_module_version": "1.2.0",
            "_view_count": null,
            "flex_flow": null,
            "width": null,
            "min_width": null,
            "border": null,
            "align_items": null,
            "bottom": null,
            "_model_module": "@jupyter-widgets/base",
            "top": null,
            "grid_column": null,
            "overflow_y": null,
            "overflow_x": null,
            "grid_auto_flow": null,
            "grid_area": null,
            "grid_template_columns": null,
            "flex": null,
            "_model_name": "LayoutModel",
            "justify_items": null,
            "grid_row": null,
            "max_height": null,
            "align_content": null,
            "visibility": null,
            "align_self": null,
            "height": null,
            "min_height": null,
            "padding": null,
            "grid_auto_rows": null,
            "grid_gap": null,
            "max_width": null,
            "order": null,
            "_view_module_version": "1.2.0",
            "grid_template_areas": null,
            "object_position": null,
            "object_fit": null,
            "grid_auto_columns": null,
            "margin": null,
            "display": null,
            "left": null
          }
        },
        "515c472814624749b5bd1d29e0eee124": {
          "model_module": "@jupyter-widgets/controls",
          "model_name": "HBoxModel",
          "state": {
            "_view_name": "HBoxView",
            "_dom_classes": [],
            "_model_name": "HBoxModel",
            "_view_module": "@jupyter-widgets/controls",
            "_model_module_version": "1.5.0",
            "_view_count": null,
            "_view_module_version": "1.5.0",
            "box_style": "",
            "layout": "IPY_MODEL_98978bda79ec43c3a23abdf0b7bc1734",
            "_model_module": "@jupyter-widgets/controls",
            "children": [
              "IPY_MODEL_103d88fc732348d5b130cef8bc45436c",
              "IPY_MODEL_78ca533bbf5b409bb9727456842bc9e1"
            ]
          }
        },
        "98978bda79ec43c3a23abdf0b7bc1734": {
          "model_module": "@jupyter-widgets/base",
          "model_name": "LayoutModel",
          "state": {
            "_view_name": "LayoutView",
            "grid_template_rows": null,
            "right": null,
            "justify_content": null,
            "_view_module": "@jupyter-widgets/base",
            "overflow": null,
            "_model_module_version": "1.2.0",
            "_view_count": null,
            "flex_flow": null,
            "width": null,
            "min_width": null,
            "border": null,
            "align_items": null,
            "bottom": null,
            "_model_module": "@jupyter-widgets/base",
            "top": null,
            "grid_column": null,
            "overflow_y": null,
            "overflow_x": null,
            "grid_auto_flow": null,
            "grid_area": null,
            "grid_template_columns": null,
            "flex": null,
            "_model_name": "LayoutModel",
            "justify_items": null,
            "grid_row": null,
            "max_height": null,
            "align_content": null,
            "visibility": null,
            "align_self": null,
            "height": null,
            "min_height": null,
            "padding": null,
            "grid_auto_rows": null,
            "grid_gap": null,
            "max_width": null,
            "order": null,
            "_view_module_version": "1.2.0",
            "grid_template_areas": null,
            "object_position": null,
            "object_fit": null,
            "grid_auto_columns": null,
            "margin": null,
            "display": null,
            "left": null
          }
        },
        "103d88fc732348d5b130cef8bc45436c": {
          "model_module": "@jupyter-widgets/controls",
          "model_name": "FloatProgressModel",
          "state": {
            "_view_name": "ProgressView",
            "style": "IPY_MODEL_1a088fa735cf4bba9baf79df342e21a5",
            "_dom_classes": [],
            "description": "",
            "_model_name": "FloatProgressModel",
            "bar_style": "success",
            "max": 1,
            "_view_module": "@jupyter-widgets/controls",
            "_model_module_version": "1.5.0",
            "value": 1,
            "_view_count": null,
            "_view_module_version": "1.5.0",
            "orientation": "horizontal",
            "min": 0,
            "description_tooltip": null,
            "_model_module": "@jupyter-widgets/controls",
            "layout": "IPY_MODEL_f939eaa05d8f420586281681dc0fd72d"
          }
        },
        "78ca533bbf5b409bb9727456842bc9e1": {
          "model_module": "@jupyter-widgets/controls",
          "model_name": "HTMLModel",
          "state": {
            "_view_name": "HTMLView",
            "style": "IPY_MODEL_c180712e17b140a1ab9f40c311901641",
            "_dom_classes": [],
            "description": "",
            "_model_name": "HTMLModel",
            "placeholder": "​",
            "_view_module": "@jupyter-widgets/controls",
            "_model_module_version": "1.5.0",
            "value": " 32768/? [00:01&lt;00:00, 22355.99it/s]",
            "_view_count": null,
            "_view_module_version": "1.5.0",
            "description_tooltip": null,
            "_model_module": "@jupyter-widgets/controls",
            "layout": "IPY_MODEL_d7b5be53be0441e1a8b369ff90f15f6d"
          }
        },
        "1a088fa735cf4bba9baf79df342e21a5": {
          "model_module": "@jupyter-widgets/controls",
          "model_name": "ProgressStyleModel",
          "state": {
            "_view_name": "StyleView",
            "_model_name": "ProgressStyleModel",
            "description_width": "initial",
            "_view_module": "@jupyter-widgets/base",
            "_model_module_version": "1.5.0",
            "_view_count": null,
            "_view_module_version": "1.2.0",
            "bar_color": null,
            "_model_module": "@jupyter-widgets/controls"
          }
        },
        "f939eaa05d8f420586281681dc0fd72d": {
          "model_module": "@jupyter-widgets/base",
          "model_name": "LayoutModel",
          "state": {
            "_view_name": "LayoutView",
            "grid_template_rows": null,
            "right": null,
            "justify_content": null,
            "_view_module": "@jupyter-widgets/base",
            "overflow": null,
            "_model_module_version": "1.2.0",
            "_view_count": null,
            "flex_flow": null,
            "width": null,
            "min_width": null,
            "border": null,
            "align_items": null,
            "bottom": null,
            "_model_module": "@jupyter-widgets/base",
            "top": null,
            "grid_column": null,
            "overflow_y": null,
            "overflow_x": null,
            "grid_auto_flow": null,
            "grid_area": null,
            "grid_template_columns": null,
            "flex": null,
            "_model_name": "LayoutModel",
            "justify_items": null,
            "grid_row": null,
            "max_height": null,
            "align_content": null,
            "visibility": null,
            "align_self": null,
            "height": null,
            "min_height": null,
            "padding": null,
            "grid_auto_rows": null,
            "grid_gap": null,
            "max_width": null,
            "order": null,
            "_view_module_version": "1.2.0",
            "grid_template_areas": null,
            "object_position": null,
            "object_fit": null,
            "grid_auto_columns": null,
            "margin": null,
            "display": null,
            "left": null
          }
        },
        "c180712e17b140a1ab9f40c311901641": {
          "model_module": "@jupyter-widgets/controls",
          "model_name": "DescriptionStyleModel",
          "state": {
            "_view_name": "StyleView",
            "_model_name": "DescriptionStyleModel",
            "description_width": "",
            "_view_module": "@jupyter-widgets/base",
            "_model_module_version": "1.5.0",
            "_view_count": null,
            "_view_module_version": "1.2.0",
            "_model_module": "@jupyter-widgets/controls"
          }
        },
        "d7b5be53be0441e1a8b369ff90f15f6d": {
          "model_module": "@jupyter-widgets/base",
          "model_name": "LayoutModel",
          "state": {
            "_view_name": "LayoutView",
            "grid_template_rows": null,
            "right": null,
            "justify_content": null,
            "_view_module": "@jupyter-widgets/base",
            "overflow": null,
            "_model_module_version": "1.2.0",
            "_view_count": null,
            "flex_flow": null,
            "width": null,
            "min_width": null,
            "border": null,
            "align_items": null,
            "bottom": null,
            "_model_module": "@jupyter-widgets/base",
            "top": null,
            "grid_column": null,
            "overflow_y": null,
            "overflow_x": null,
            "grid_auto_flow": null,
            "grid_area": null,
            "grid_template_columns": null,
            "flex": null,
            "_model_name": "LayoutModel",
            "justify_items": null,
            "grid_row": null,
            "max_height": null,
            "align_content": null,
            "visibility": null,
            "align_self": null,
            "height": null,
            "min_height": null,
            "padding": null,
            "grid_auto_rows": null,
            "grid_gap": null,
            "max_width": null,
            "order": null,
            "_view_module_version": "1.2.0",
            "grid_template_areas": null,
            "object_position": null,
            "object_fit": null,
            "grid_auto_columns": null,
            "margin": null,
            "display": null,
            "left": null
          }
        },
        "27194ead99564a1dbd1da2bd2a69477f": {
          "model_module": "@jupyter-widgets/controls",
          "model_name": "HBoxModel",
          "state": {
            "_view_name": "HBoxView",
            "_dom_classes": [],
            "_model_name": "HBoxModel",
            "_view_module": "@jupyter-widgets/controls",
            "_model_module_version": "1.5.0",
            "_view_count": null,
            "_view_module_version": "1.5.0",
            "box_style": "",
            "layout": "IPY_MODEL_71f63695c8494df385c441b7eac7b85f",
            "_model_module": "@jupyter-widgets/controls",
            "children": [
              "IPY_MODEL_22851e8fbae7413ba7c2354a4f1e5d76",
              "IPY_MODEL_6a9ebff5152a40c4a76cb4c21fdfd166"
            ]
          }
        },
        "71f63695c8494df385c441b7eac7b85f": {
          "model_module": "@jupyter-widgets/base",
          "model_name": "LayoutModel",
          "state": {
            "_view_name": "LayoutView",
            "grid_template_rows": null,
            "right": null,
            "justify_content": null,
            "_view_module": "@jupyter-widgets/base",
            "overflow": null,
            "_model_module_version": "1.2.0",
            "_view_count": null,
            "flex_flow": null,
            "width": null,
            "min_width": null,
            "border": null,
            "align_items": null,
            "bottom": null,
            "_model_module": "@jupyter-widgets/base",
            "top": null,
            "grid_column": null,
            "overflow_y": null,
            "overflow_x": null,
            "grid_auto_flow": null,
            "grid_area": null,
            "grid_template_columns": null,
            "flex": null,
            "_model_name": "LayoutModel",
            "justify_items": null,
            "grid_row": null,
            "max_height": null,
            "align_content": null,
            "visibility": null,
            "align_self": null,
            "height": null,
            "min_height": null,
            "padding": null,
            "grid_auto_rows": null,
            "grid_gap": null,
            "max_width": null,
            "order": null,
            "_view_module_version": "1.2.0",
            "grid_template_areas": null,
            "object_position": null,
            "object_fit": null,
            "grid_auto_columns": null,
            "margin": null,
            "display": null,
            "left": null
          }
        },
        "22851e8fbae7413ba7c2354a4f1e5d76": {
          "model_module": "@jupyter-widgets/controls",
          "model_name": "FloatProgressModel",
          "state": {
            "_view_name": "ProgressView",
            "style": "IPY_MODEL_f63cb600d91e40a09697aa6c8958ab4d",
            "_dom_classes": [],
            "description": "",
            "_model_name": "FloatProgressModel",
            "bar_style": "success",
            "max": 1,
            "_view_module": "@jupyter-widgets/controls",
            "_model_module_version": "1.5.0",
            "value": 1,
            "_view_count": null,
            "_view_module_version": "1.5.0",
            "orientation": "horizontal",
            "min": 0,
            "description_tooltip": null,
            "_model_module": "@jupyter-widgets/controls",
            "layout": "IPY_MODEL_0d68abba0e2b4aed8c59c0c61dfa0b6f"
          }
        },
        "6a9ebff5152a40c4a76cb4c21fdfd166": {
          "model_module": "@jupyter-widgets/controls",
          "model_name": "HTMLModel",
          "state": {
            "_view_name": "HTMLView",
            "style": "IPY_MODEL_61c2b7cb502740ada03387a149840a5f",
            "_dom_classes": [],
            "description": "",
            "_model_name": "HTMLModel",
            "placeholder": "​",
            "_view_module": "@jupyter-widgets/controls",
            "_model_module_version": "1.5.0",
            "value": " 1654784/? [00:01&lt;00:00, 1392938.79it/s]",
            "_view_count": null,
            "_view_module_version": "1.5.0",
            "description_tooltip": null,
            "_model_module": "@jupyter-widgets/controls",
            "layout": "IPY_MODEL_057cde84f3d14286b6746ee106ba57d0"
          }
        },
        "f63cb600d91e40a09697aa6c8958ab4d": {
          "model_module": "@jupyter-widgets/controls",
          "model_name": "ProgressStyleModel",
          "state": {
            "_view_name": "StyleView",
            "_model_name": "ProgressStyleModel",
            "description_width": "initial",
            "_view_module": "@jupyter-widgets/base",
            "_model_module_version": "1.5.0",
            "_view_count": null,
            "_view_module_version": "1.2.0",
            "bar_color": null,
            "_model_module": "@jupyter-widgets/controls"
          }
        },
        "0d68abba0e2b4aed8c59c0c61dfa0b6f": {
          "model_module": "@jupyter-widgets/base",
          "model_name": "LayoutModel",
          "state": {
            "_view_name": "LayoutView",
            "grid_template_rows": null,
            "right": null,
            "justify_content": null,
            "_view_module": "@jupyter-widgets/base",
            "overflow": null,
            "_model_module_version": "1.2.0",
            "_view_count": null,
            "flex_flow": null,
            "width": null,
            "min_width": null,
            "border": null,
            "align_items": null,
            "bottom": null,
            "_model_module": "@jupyter-widgets/base",
            "top": null,
            "grid_column": null,
            "overflow_y": null,
            "overflow_x": null,
            "grid_auto_flow": null,
            "grid_area": null,
            "grid_template_columns": null,
            "flex": null,
            "_model_name": "LayoutModel",
            "justify_items": null,
            "grid_row": null,
            "max_height": null,
            "align_content": null,
            "visibility": null,
            "align_self": null,
            "height": null,
            "min_height": null,
            "padding": null,
            "grid_auto_rows": null,
            "grid_gap": null,
            "max_width": null,
            "order": null,
            "_view_module_version": "1.2.0",
            "grid_template_areas": null,
            "object_position": null,
            "object_fit": null,
            "grid_auto_columns": null,
            "margin": null,
            "display": null,
            "left": null
          }
        },
        "61c2b7cb502740ada03387a149840a5f": {
          "model_module": "@jupyter-widgets/controls",
          "model_name": "DescriptionStyleModel",
          "state": {
            "_view_name": "StyleView",
            "_model_name": "DescriptionStyleModel",
            "description_width": "",
            "_view_module": "@jupyter-widgets/base",
            "_model_module_version": "1.5.0",
            "_view_count": null,
            "_view_module_version": "1.2.0",
            "_model_module": "@jupyter-widgets/controls"
          }
        },
        "057cde84f3d14286b6746ee106ba57d0": {
          "model_module": "@jupyter-widgets/base",
          "model_name": "LayoutModel",
          "state": {
            "_view_name": "LayoutView",
            "grid_template_rows": null,
            "right": null,
            "justify_content": null,
            "_view_module": "@jupyter-widgets/base",
            "overflow": null,
            "_model_module_version": "1.2.0",
            "_view_count": null,
            "flex_flow": null,
            "width": null,
            "min_width": null,
            "border": null,
            "align_items": null,
            "bottom": null,
            "_model_module": "@jupyter-widgets/base",
            "top": null,
            "grid_column": null,
            "overflow_y": null,
            "overflow_x": null,
            "grid_auto_flow": null,
            "grid_area": null,
            "grid_template_columns": null,
            "flex": null,
            "_model_name": "LayoutModel",
            "justify_items": null,
            "grid_row": null,
            "max_height": null,
            "align_content": null,
            "visibility": null,
            "align_self": null,
            "height": null,
            "min_height": null,
            "padding": null,
            "grid_auto_rows": null,
            "grid_gap": null,
            "max_width": null,
            "order": null,
            "_view_module_version": "1.2.0",
            "grid_template_areas": null,
            "object_position": null,
            "object_fit": null,
            "grid_auto_columns": null,
            "margin": null,
            "display": null,
            "left": null
          }
        },
        "05a5ca8beb9946f18729996f58f57c13": {
          "model_module": "@jupyter-widgets/controls",
          "model_name": "HBoxModel",
          "state": {
            "_view_name": "HBoxView",
            "_dom_classes": [],
            "_model_name": "HBoxModel",
            "_view_module": "@jupyter-widgets/controls",
            "_model_module_version": "1.5.0",
            "_view_count": null,
            "_view_module_version": "1.5.0",
            "box_style": "",
            "layout": "IPY_MODEL_35a5870f442644b0b836539da3c7fc93",
            "_model_module": "@jupyter-widgets/controls",
            "children": [
              "IPY_MODEL_78848b342bcf45a184786cac2b12248b",
              "IPY_MODEL_5ecb8209d9c344f8b62cf815eb0fdf4d"
            ]
          }
        },
        "35a5870f442644b0b836539da3c7fc93": {
          "model_module": "@jupyter-widgets/base",
          "model_name": "LayoutModel",
          "state": {
            "_view_name": "LayoutView",
            "grid_template_rows": null,
            "right": null,
            "justify_content": null,
            "_view_module": "@jupyter-widgets/base",
            "overflow": null,
            "_model_module_version": "1.2.0",
            "_view_count": null,
            "flex_flow": null,
            "width": null,
            "min_width": null,
            "border": null,
            "align_items": null,
            "bottom": null,
            "_model_module": "@jupyter-widgets/base",
            "top": null,
            "grid_column": null,
            "overflow_y": null,
            "overflow_x": null,
            "grid_auto_flow": null,
            "grid_area": null,
            "grid_template_columns": null,
            "flex": null,
            "_model_name": "LayoutModel",
            "justify_items": null,
            "grid_row": null,
            "max_height": null,
            "align_content": null,
            "visibility": null,
            "align_self": null,
            "height": null,
            "min_height": null,
            "padding": null,
            "grid_auto_rows": null,
            "grid_gap": null,
            "max_width": null,
            "order": null,
            "_view_module_version": "1.2.0",
            "grid_template_areas": null,
            "object_position": null,
            "object_fit": null,
            "grid_auto_columns": null,
            "margin": null,
            "display": null,
            "left": null
          }
        },
        "78848b342bcf45a184786cac2b12248b": {
          "model_module": "@jupyter-widgets/controls",
          "model_name": "FloatProgressModel",
          "state": {
            "_view_name": "ProgressView",
            "style": "IPY_MODEL_bcfd9961ff0c491e9d605ac33a6e2b24",
            "_dom_classes": [],
            "description": "",
            "_model_name": "FloatProgressModel",
            "bar_style": "success",
            "max": 1,
            "_view_module": "@jupyter-widgets/controls",
            "_model_module_version": "1.5.0",
            "value": 1,
            "_view_count": null,
            "_view_module_version": "1.5.0",
            "orientation": "horizontal",
            "min": 0,
            "description_tooltip": null,
            "_model_module": "@jupyter-widgets/controls",
            "layout": "IPY_MODEL_dbb5d68d535d4b89907e15db4806a838"
          }
        },
        "5ecb8209d9c344f8b62cf815eb0fdf4d": {
          "model_module": "@jupyter-widgets/controls",
          "model_name": "HTMLModel",
          "state": {
            "_view_name": "HTMLView",
            "style": "IPY_MODEL_e27fef7e182e48f2aae6eac4898ff28c",
            "_dom_classes": [],
            "description": "",
            "_model_name": "HTMLModel",
            "placeholder": "​",
            "_view_module": "@jupyter-widgets/controls",
            "_model_module_version": "1.5.0",
            "value": " 8192/? [00:00&lt;00:00, 17682.60it/s]",
            "_view_count": null,
            "_view_module_version": "1.5.0",
            "description_tooltip": null,
            "_model_module": "@jupyter-widgets/controls",
            "layout": "IPY_MODEL_1a09d47bcdc840ecaf5cc15cac3325f1"
          }
        },
        "bcfd9961ff0c491e9d605ac33a6e2b24": {
          "model_module": "@jupyter-widgets/controls",
          "model_name": "ProgressStyleModel",
          "state": {
            "_view_name": "StyleView",
            "_model_name": "ProgressStyleModel",
            "description_width": "initial",
            "_view_module": "@jupyter-widgets/base",
            "_model_module_version": "1.5.0",
            "_view_count": null,
            "_view_module_version": "1.2.0",
            "bar_color": null,
            "_model_module": "@jupyter-widgets/controls"
          }
        },
        "dbb5d68d535d4b89907e15db4806a838": {
          "model_module": "@jupyter-widgets/base",
          "model_name": "LayoutModel",
          "state": {
            "_view_name": "LayoutView",
            "grid_template_rows": null,
            "right": null,
            "justify_content": null,
            "_view_module": "@jupyter-widgets/base",
            "overflow": null,
            "_model_module_version": "1.2.0",
            "_view_count": null,
            "flex_flow": null,
            "width": null,
            "min_width": null,
            "border": null,
            "align_items": null,
            "bottom": null,
            "_model_module": "@jupyter-widgets/base",
            "top": null,
            "grid_column": null,
            "overflow_y": null,
            "overflow_x": null,
            "grid_auto_flow": null,
            "grid_area": null,
            "grid_template_columns": null,
            "flex": null,
            "_model_name": "LayoutModel",
            "justify_items": null,
            "grid_row": null,
            "max_height": null,
            "align_content": null,
            "visibility": null,
            "align_self": null,
            "height": null,
            "min_height": null,
            "padding": null,
            "grid_auto_rows": null,
            "grid_gap": null,
            "max_width": null,
            "order": null,
            "_view_module_version": "1.2.0",
            "grid_template_areas": null,
            "object_position": null,
            "object_fit": null,
            "grid_auto_columns": null,
            "margin": null,
            "display": null,
            "left": null
          }
        },
        "e27fef7e182e48f2aae6eac4898ff28c": {
          "model_module": "@jupyter-widgets/controls",
          "model_name": "DescriptionStyleModel",
          "state": {
            "_view_name": "StyleView",
            "_model_name": "DescriptionStyleModel",
            "description_width": "",
            "_view_module": "@jupyter-widgets/base",
            "_model_module_version": "1.5.0",
            "_view_count": null,
            "_view_module_version": "1.2.0",
            "_model_module": "@jupyter-widgets/controls"
          }
        },
        "1a09d47bcdc840ecaf5cc15cac3325f1": {
          "model_module": "@jupyter-widgets/base",
          "model_name": "LayoutModel",
          "state": {
            "_view_name": "LayoutView",
            "grid_template_rows": null,
            "right": null,
            "justify_content": null,
            "_view_module": "@jupyter-widgets/base",
            "overflow": null,
            "_model_module_version": "1.2.0",
            "_view_count": null,
            "flex_flow": null,
            "width": null,
            "min_width": null,
            "border": null,
            "align_items": null,
            "bottom": null,
            "_model_module": "@jupyter-widgets/base",
            "top": null,
            "grid_column": null,
            "overflow_y": null,
            "overflow_x": null,
            "grid_auto_flow": null,
            "grid_area": null,
            "grid_template_columns": null,
            "flex": null,
            "_model_name": "LayoutModel",
            "justify_items": null,
            "grid_row": null,
            "max_height": null,
            "align_content": null,
            "visibility": null,
            "align_self": null,
            "height": null,
            "min_height": null,
            "padding": null,
            "grid_auto_rows": null,
            "grid_gap": null,
            "max_width": null,
            "order": null,
            "_view_module_version": "1.2.0",
            "grid_template_areas": null,
            "object_position": null,
            "object_fit": null,
            "grid_auto_columns": null,
            "margin": null,
            "display": null,
            "left": null
          }
        }
      }
    }
  },
  "cells": [
    {
      "cell_type": "markdown",
      "metadata": {
        "id": "view-in-github",
        "colab_type": "text"
      },
      "source": [
        "<a href=\"https://colab.research.google.com/github/okojoalg/catalyst-for-beginner/blob/main/01_MNIST_FCN.ipynb\" target=\"_parent\"><img src=\"https://colab.research.google.com/assets/colab-badge.svg\" alt=\"Open In Colab\"/></a>"
      ]
    },
    {
      "cell_type": "markdown",
      "metadata": {
        "id": "ARJEk1ALRWPY"
      },
      "source": [
        "#【Catalyst/PyTorch入門(1)】MNISTを全結合ニューラルネットワークで学習させてみる　\n",
        "\n",
        "PyTorchのフレームワークの1つであるCatalystを使用して、MNISTを全結合ニューラルネットワークで学習します。\n",
        "\n",
        "**読者前提** :\n",
        "* Catalyst(PyTorch)を使用したことがない方\n",
        "* 深層学習については入門以上の知識があり、Kerasなどの深層学習フレームワークを触った経験がある方\n"
      ]
    },
    {
      "cell_type": "markdown",
      "metadata": {
        "id": "eoYm3rqhRVxJ"
      },
      "source": [
        "## インストール\n",
        "\n",
        "Google Colabにはインストールされていないライブラリをインストールします。\n",
        "プリインストールされているライブラリは将来的にversionが変わる可能性があります。\n",
        "執筆時点での主要なライブラリのversionを以下に記載します。\n",
        "\n",
        "* **torch**: 1.7.0+cu101\n",
        "* **torchvision**: 0.8.1+cu101\n",
        "* **catalyst**: 20.12\n",
        "* **torchviz**: 0.0.1\n",
        "\n"
      ]
    },
    {
      "cell_type": "code",
      "metadata": {
        "colab": {
          "base_uri": "https://localhost:8080/"
        },
        "id": "6kt0ZDCHzYjl",
        "outputId": "66514308-b0dd-4021-bf28-a2fbf39e687b"
      },
      "source": [
        "!pip install catalyst==20.12 torchviz==0.0.1"
      ],
      "execution_count": null,
      "outputs": [
        {
          "output_type": "stream",
          "text": [
            "Collecting catalyst==20.12\n",
            "\u001b[?25l  Downloading https://files.pythonhosted.org/packages/b7/8b/03a94e9943885ac39f11b46932ea51542812a78a901cc631d0a0348bcbd0/catalyst-20.12-py2.py3-none-any.whl (490kB)\n",
            "\u001b[K     |████████████████████████████████| 491kB 8.3MB/s \n",
            "\u001b[?25hCollecting torchviz==0.0.1\n",
            "\u001b[?25l  Downloading https://files.pythonhosted.org/packages/8f/8e/a9630c7786b846d08b47714dd363a051f5e37b4ea0e534460d8cdfc1644b/torchviz-0.0.1.tar.gz (41kB)\n",
            "\u001b[K     |████████████████████████████████| 51kB 8.3MB/s \n",
            "\u001b[?25hRequirement already satisfied: numpy>=1.16.4 in /usr/local/lib/python3.6/dist-packages (from catalyst==20.12) (1.19.5)\n",
            "Requirement already satisfied: tqdm>=4.33.0 in /usr/local/lib/python3.6/dist-packages (from catalyst==20.12) (4.41.1)\n",
            "Requirement already satisfied: torch>=1.1.0 in /usr/local/lib/python3.6/dist-packages (from catalyst==20.12) (1.7.0+cu101)\n",
            "Requirement already satisfied: PyYAML in /usr/local/lib/python3.6/dist-packages (from catalyst==20.12) (3.13)\n",
            "Requirement already satisfied: packaging in /usr/local/lib/python3.6/dist-packages (from catalyst==20.12) (20.9)\n",
            "Collecting tensorboardX>=2.1.0\n",
            "\u001b[?25l  Downloading https://files.pythonhosted.org/packages/af/0c/4f41bcd45db376e6fe5c619c01100e9b7531c55791b7244815bac6eac32c/tensorboardX-2.1-py2.py3-none-any.whl (308kB)\n",
            "\u001b[K     |████████████████████████████████| 317kB 13.9MB/s \n",
            "\u001b[?25hRequirement already satisfied: graphviz in /usr/local/lib/python3.6/dist-packages (from torchviz==0.0.1) (0.10.1)\n",
            "Requirement already satisfied: future in /usr/local/lib/python3.6/dist-packages (from torch>=1.1.0->catalyst==20.12) (0.16.0)\n",
            "Requirement already satisfied: dataclasses in /usr/local/lib/python3.6/dist-packages (from torch>=1.1.0->catalyst==20.12) (0.8)\n",
            "Requirement already satisfied: typing-extensions in /usr/local/lib/python3.6/dist-packages (from torch>=1.1.0->catalyst==20.12) (3.7.4.3)\n",
            "Requirement already satisfied: pyparsing>=2.0.2 in /usr/local/lib/python3.6/dist-packages (from packaging->catalyst==20.12) (2.4.7)\n",
            "Requirement already satisfied: protobuf>=3.8.0 in /usr/local/lib/python3.6/dist-packages (from tensorboardX>=2.1.0->catalyst==20.12) (3.12.4)\n",
            "Requirement already satisfied: six in /usr/local/lib/python3.6/dist-packages (from tensorboardX>=2.1.0->catalyst==20.12) (1.15.0)\n",
            "Requirement already satisfied: setuptools in /usr/local/lib/python3.6/dist-packages (from protobuf>=3.8.0->tensorboardX>=2.1.0->catalyst==20.12) (53.0.0)\n",
            "Building wheels for collected packages: torchviz\n",
            "  Building wheel for torchviz (setup.py) ... \u001b[?25l\u001b[?25hdone\n",
            "  Created wheel for torchviz: filename=torchviz-0.0.1-cp36-none-any.whl size=3522 sha256=7b77bfcf34ba375bddea12df2ee2c19250730c0a119c91fabfddf3044c86e64c\n",
            "  Stored in directory: /root/.cache/pip/wheels/2a/c2/c5/b8b4d0f7992c735f6db5bfa3c5f354cf36502037ca2b585667\n",
            "Successfully built torchviz\n",
            "Installing collected packages: tensorboardX, catalyst, torchviz\n",
            "Successfully installed catalyst-20.12 tensorboardX-2.1 torchviz-0.0.1\n"
          ],
          "name": "stdout"
        }
      ]
    },
    {
      "cell_type": "markdown",
      "metadata": {
        "id": "uxT2JzZeRoFu"
      },
      "source": [
        "## import\n",
        "\n",
        "必要なライブラリをimportしておきます。\n",
        "torch.nnはPyTorchでモデルなどを定義するときに必要なクラスを多く含んでいます。慣習に従ってnnの名でimportします。\n",
        "\n",
        "他のクラス・メソッドについては使用時に説明します。"
      ]
    },
    {
      "cell_type": "code",
      "metadata": {
        "id": "lsjr66wgJex3"
      },
      "source": [
        "import torch\n",
        "import torch.nn as nn\n",
        "from torch.optim import Adam\n",
        "from torch.optim.lr_scheduler import StepLR\n",
        "from torch.utils.data import DataLoader, random_split\n",
        "from torchvision.datasets import MNIST\n",
        "from torchvision.transforms import transforms\n",
        "from catalyst.dl import SupervisedRunner\n",
        "from catalyst.dl.callbacks import AccuracyCallback\n",
        "from catalyst.utils import get_device\n",
        "from torchviz import make_dot"
      ],
      "execution_count": null,
      "outputs": []
    },
    {
      "cell_type": "markdown",
      "metadata": {
        "id": "7EpZvq5BRtQD"
      },
      "source": [
        "## ハイパーパラメータ"
      ]
    },
    {
      "cell_type": "code",
      "metadata": {
        "id": "l7f6uqyNzgCB"
      },
      "source": [
        "# class数\n",
        "num_class = 10\n",
        "# 学習のepoch数\n",
        "epochs = 30\n",
        "# モデルやログファイルなどの保存先\n",
        "logdir = \"output/\"\n",
        "# random seed\n",
        "seed = 1988\n",
        "# バッチサイズ\n",
        "batch_size=128\n",
        "# データローダに使用するプロセス数\n",
        "num_workers=2"
      ],
      "execution_count": null,
      "outputs": []
    },
    {
      "cell_type": "markdown",
      "metadata": {
        "id": "3fxZN_xAUisP"
      },
      "source": [
        "## モデル設計\n",
        "\n",
        "モデルは隠れ層が1つのシンプルな全結合ネットワークとして定義します。各ユニットの数は以下のとおりです。\n",
        "\n",
        "* **入力ユニット**: 784\n",
        "* **隠れユニット**: 2048\n",
        "* **出力ユニット**: 10\n",
        "\n",
        "入力・出力ユニットはそれぞれ、MNISTの入力次元、分類数にあわせていますが、隠れユニット数は変更可能です。\n",
        "\n",
        "また、計算グラフを可視化してみます。"
      ]
    },
    {
      "cell_type": "code",
      "metadata": {
        "id": "G0SqOIM8KMwo"
      },
      "source": [
        "in_unit, hidden_unit, out_unit = 784, 2048, 10\n",
        "\n",
        "model = nn.Sequential(*[\n",
        "    nn.Linear(in_features=in_unit, out_features=hidden_unit),\n",
        "    nn.ReLU(),\n",
        "    nn.Linear(in_features=hidden_unit, out_features=out_unit),\n",
        "    nn.Softmax(dim=1)\n",
        "])"
      ],
      "execution_count": null,
      "outputs": []
    },
    {
      "cell_type": "code",
      "metadata": {
        "colab": {
          "base_uri": "https://localhost:8080/",
          "height": 509
        },
        "id": "VwiKYckoVJtm",
        "outputId": "a0b02d4f-fe74-409c-dc79-4f3a7313f3ce"
      },
      "source": [
        "x = torch.zeros(1, 784, dtype=torch.float, requires_grad=False)\n",
        "model.eval()\n",
        "y = model(x)\n",
        "make_dot(y, params=dict(model.named_parameters()))"
      ],
      "execution_count": null,
      "outputs": [
        {
          "output_type": "execute_result",
          "data": {
            "text/plain": [
              "<graphviz.dot.Digraph at 0x7f886933b470>"
            ],
            "image/svg+xml": "<?xml version=\"1.0\" encoding=\"UTF-8\" standalone=\"no\"?>\n<!DOCTYPE svg PUBLIC \"-//W3C//DTD SVG 1.1//EN\"\n \"http://www.w3.org/Graphics/SVG/1.1/DTD/svg11.dtd\">\n<!-- Generated by graphviz version 2.40.1 (20161225.0304)\n -->\n<!-- Title: %3 Pages: 1 -->\n<svg width=\"267pt\" height=\"366pt\"\n viewBox=\"0.00 0.00 266.50 366.00\" xmlns=\"http://www.w3.org/2000/svg\" xmlns:xlink=\"http://www.w3.org/1999/xlink\">\n<g id=\"graph0\" class=\"graph\" transform=\"scale(1 1) rotate(0) translate(4 362)\">\n<title>%3</title>\n<polygon fill=\"#ffffff\" stroke=\"transparent\" points=\"-4,4 -4,-362 262.5,-362 262.5,4 -4,4\"/>\n<!-- 140223857276296 -->\n<g id=\"node1\" class=\"node\">\n<title>140223857276296</title>\n<polygon fill=\"#caff70\" stroke=\"#000000\" points=\"171.5,-21 66.5,-21 66.5,0 171.5,0 171.5,-21\"/>\n<text text-anchor=\"middle\" x=\"119\" y=\"-7.4\" font-family=\"Times,serif\" font-size=\"12.00\" fill=\"#000000\">SoftmaxBackward</text>\n</g>\n<!-- 140223857276184 -->\n<g id=\"node2\" class=\"node\">\n<title>140223857276184</title>\n<polygon fill=\"#d3d3d3\" stroke=\"#000000\" points=\"171,-78 67,-78 67,-57 171,-57 171,-78\"/>\n<text text-anchor=\"middle\" x=\"119\" y=\"-64.4\" font-family=\"Times,serif\" font-size=\"12.00\" fill=\"#000000\">AddmmBackward</text>\n</g>\n<!-- 140223857276184&#45;&gt;140223857276296 -->\n<g id=\"edge1\" class=\"edge\">\n<title>140223857276184&#45;&gt;140223857276296</title>\n<path fill=\"none\" stroke=\"#000000\" d=\"M119,-56.7787C119,-49.6134 119,-39.9517 119,-31.3097\"/>\n<polygon fill=\"#000000\" stroke=\"#000000\" points=\"122.5001,-31.1732 119,-21.1732 115.5001,-31.1732 122.5001,-31.1732\"/>\n</g>\n<!-- 140223857276856 -->\n<g id=\"node3\" class=\"node\">\n<title>140223857276856</title>\n<polygon fill=\"#add8e6\" stroke=\"#000000\" points=\"54,-148 0,-148 0,-114 54,-114 54,-148\"/>\n<text text-anchor=\"middle\" x=\"27\" y=\"-134.4\" font-family=\"Times,serif\" font-size=\"12.00\" fill=\"#000000\">2.bias</text>\n<text text-anchor=\"middle\" x=\"27\" y=\"-121.4\" font-family=\"Times,serif\" font-size=\"12.00\" fill=\"#000000\"> (10)</text>\n</g>\n<!-- 140223857276856&#45;&gt;140223857276184 -->\n<g id=\"edge2\" class=\"edge\">\n<title>140223857276856&#45;&gt;140223857276184</title>\n<path fill=\"none\" stroke=\"#000000\" d=\"M51.6543,-113.9832C65.1894,-104.641 81.8926,-93.1122 95.278,-83.8734\"/>\n<polygon fill=\"#000000\" stroke=\"#000000\" points=\"97.2865,-86.7398 103.5283,-78.1788 93.3102,-80.9788 97.2865,-86.7398\"/>\n</g>\n<!-- 140223857276912 -->\n<g id=\"node4\" class=\"node\">\n<title>140223857276912</title>\n<polygon fill=\"#d3d3d3\" stroke=\"#000000\" points=\"166,-141.5 72,-141.5 72,-120.5 166,-120.5 166,-141.5\"/>\n<text text-anchor=\"middle\" x=\"119\" y=\"-127.9\" font-family=\"Times,serif\" font-size=\"12.00\" fill=\"#000000\">ReluBackward0</text>\n</g>\n<!-- 140223857276912&#45;&gt;140223857276184 -->\n<g id=\"edge3\" class=\"edge\">\n<title>140223857276912&#45;&gt;140223857276184</title>\n<path fill=\"none\" stroke=\"#000000\" d=\"M119,-120.2281C119,-111.5091 119,-98.9699 119,-88.3068\"/>\n<polygon fill=\"#000000\" stroke=\"#000000\" points=\"122.5001,-88.1128 119,-78.1128 115.5001,-88.1129 122.5001,-88.1128\"/>\n</g>\n<!-- 140223857277080 -->\n<g id=\"node5\" class=\"node\">\n<title>140223857277080</title>\n<polygon fill=\"#d3d3d3\" stroke=\"#000000\" points=\"170,-211.5 66,-211.5 66,-190.5 170,-190.5 170,-211.5\"/>\n<text text-anchor=\"middle\" x=\"118\" y=\"-197.9\" font-family=\"Times,serif\" font-size=\"12.00\" fill=\"#000000\">AddmmBackward</text>\n</g>\n<!-- 140223857277080&#45;&gt;140223857276912 -->\n<g id=\"edge4\" class=\"edge\">\n<title>140223857277080&#45;&gt;140223857276912</title>\n<path fill=\"none\" stroke=\"#000000\" d=\"M118.1519,-190.3685C118.2972,-180.1925 118.5206,-164.5606 118.7016,-151.8912\"/>\n<polygon fill=\"#000000\" stroke=\"#000000\" points=\"122.2034,-151.7806 118.8467,-141.7315 115.2041,-151.6805 122.2034,-151.7806\"/>\n</g>\n<!-- 140223857277192 -->\n<g id=\"node6\" class=\"node\">\n<title>140223857277192</title>\n<polygon fill=\"#add8e6\" stroke=\"#000000\" points=\"104,-288 50,-288 50,-254 104,-254 104,-288\"/>\n<text text-anchor=\"middle\" x=\"77\" y=\"-274.4\" font-family=\"Times,serif\" font-size=\"12.00\" fill=\"#000000\">0.bias</text>\n<text text-anchor=\"middle\" x=\"77\" y=\"-261.4\" font-family=\"Times,serif\" font-size=\"12.00\" fill=\"#000000\"> (2048)</text>\n</g>\n<!-- 140223857277192&#45;&gt;140223857277080 -->\n<g id=\"edge5\" class=\"edge\">\n<title>140223857277192&#45;&gt;140223857277080</title>\n<path fill=\"none\" stroke=\"#000000\" d=\"M87.1348,-253.6966C93.0172,-243.6535 100.4448,-230.9722 106.5395,-220.5667\"/>\n<polygon fill=\"#000000\" stroke=\"#000000\" points=\"109.6454,-222.189 111.6794,-211.7913 103.6052,-218.6512 109.6454,-222.189\"/>\n</g>\n<!-- 140223857277248 -->\n<g id=\"node7\" class=\"node\">\n<title>140223857277248</title>\n<polygon fill=\"#d3d3d3\" stroke=\"#000000\" points=\"195.5,-281.5 122.5,-281.5 122.5,-260.5 195.5,-260.5 195.5,-281.5\"/>\n<text text-anchor=\"middle\" x=\"159\" y=\"-267.9\" font-family=\"Times,serif\" font-size=\"12.00\" fill=\"#000000\">TBackward</text>\n</g>\n<!-- 140223857277248&#45;&gt;140223857277080 -->\n<g id=\"edge6\" class=\"edge\">\n<title>140223857277248&#45;&gt;140223857277080</title>\n<path fill=\"none\" stroke=\"#000000\" d=\"M152.773,-260.3685C146.5719,-249.7814 136.9119,-233.2886 129.3456,-220.3705\"/>\n<polygon fill=\"#000000\" stroke=\"#000000\" points=\"132.3598,-218.5915 124.2856,-211.7315 126.3196,-222.1293 132.3598,-218.5915\"/>\n</g>\n<!-- 140223857277360 -->\n<g id=\"node8\" class=\"node\">\n<title>140223857277360</title>\n<polygon fill=\"#add8e6\" stroke=\"#000000\" points=\"196.5,-358 121.5,-358 121.5,-324 196.5,-324 196.5,-358\"/>\n<text text-anchor=\"middle\" x=\"159\" y=\"-344.4\" font-family=\"Times,serif\" font-size=\"12.00\" fill=\"#000000\">0.weight</text>\n<text text-anchor=\"middle\" x=\"159\" y=\"-331.4\" font-family=\"Times,serif\" font-size=\"12.00\" fill=\"#000000\"> (2048, 784)</text>\n</g>\n<!-- 140223857277360&#45;&gt;140223857277248 -->\n<g id=\"edge7\" class=\"edge\">\n<title>140223857277360&#45;&gt;140223857277248</title>\n<path fill=\"none\" stroke=\"#000000\" d=\"M159,-323.6966C159,-314.0634 159,-302.003 159,-291.8518\"/>\n<polygon fill=\"#000000\" stroke=\"#000000\" points=\"162.5001,-291.7912 159,-281.7913 155.5001,-291.7913 162.5001,-291.7912\"/>\n</g>\n<!-- 140223857276968 -->\n<g id=\"node9\" class=\"node\">\n<title>140223857276968</title>\n<polygon fill=\"#d3d3d3\" stroke=\"#000000\" points=\"258.5,-141.5 185.5,-141.5 185.5,-120.5 258.5,-120.5 258.5,-141.5\"/>\n<text text-anchor=\"middle\" x=\"222\" y=\"-127.9\" font-family=\"Times,serif\" font-size=\"12.00\" fill=\"#000000\">TBackward</text>\n</g>\n<!-- 140223857276968&#45;&gt;140223857276184 -->\n<g id=\"edge8\" class=\"edge\">\n<title>140223857276968&#45;&gt;140223857276184</title>\n<path fill=\"none\" stroke=\"#000000\" d=\"M204.5275,-120.2281C188.1519,-110.1325 163.4682,-94.9149 144.8209,-83.4187\"/>\n<polygon fill=\"#000000\" stroke=\"#000000\" points=\"146.5636,-80.3814 136.2145,-78.1128 142.8901,-86.3401 146.5636,-80.3814\"/>\n</g>\n<!-- 140223857277136 -->\n<g id=\"node10\" class=\"node\">\n<title>140223857277136</title>\n<polygon fill=\"#add8e6\" stroke=\"#000000\" points=\"257.5,-218 188.5,-218 188.5,-184 257.5,-184 257.5,-218\"/>\n<text text-anchor=\"middle\" x=\"223\" y=\"-204.4\" font-family=\"Times,serif\" font-size=\"12.00\" fill=\"#000000\">2.weight</text>\n<text text-anchor=\"middle\" x=\"223\" y=\"-191.4\" font-family=\"Times,serif\" font-size=\"12.00\" fill=\"#000000\"> (10, 2048)</text>\n</g>\n<!-- 140223857277136&#45;&gt;140223857276968 -->\n<g id=\"edge9\" class=\"edge\">\n<title>140223857277136&#45;&gt;140223857276968</title>\n<path fill=\"none\" stroke=\"#000000\" d=\"M222.7528,-183.6966C222.6152,-174.0634 222.4429,-162.003 222.2979,-151.8518\"/>\n<polygon fill=\"#000000\" stroke=\"#000000\" points=\"225.7967,-151.7402 222.1542,-141.7913 218.7975,-151.8403 225.7967,-151.7402\"/>\n</g>\n</g>\n</svg>\n"
          },
          "metadata": {
            "tags": []
          },
          "execution_count": 5
        }
      ]
    },
    {
      "cell_type": "markdown",
      "metadata": {
        "id": "0vSFCqY3YMEr"
      },
      "source": [
        "## データローダの定義"
      ]
    },
    {
      "cell_type": "markdown",
      "metadata": {
        "id": "7yn6CmBfXeN9"
      },
      "source": [
        "### Reshape変換の定義\n",
        "\n",
        "torchvisionのMNISTの画像データは(channel=3, height=28, width=28)のテンソルで呼び出されます。今回は畳み込み層ではなく全結合層へ入力するため、reshapeして(784,)のテンソルにする必要があります。前処理で手軽にshapeの変換ができるようにReshapeクラスを定義します。"
      ]
    },
    {
      "cell_type": "code",
      "metadata": {
        "id": "k7A5SV1aRySH"
      },
      "source": [
        "class Reshape:\n",
        "    def __init__(self, size=-1):\n",
        "        self.size = size\n",
        "\n",
        "    def __call__(self, image):\n",
        "        return image.view(self.size)"
      ],
      "execution_count": null,
      "outputs": []
    },
    {
      "cell_type": "markdown",
      "metadata": {
        "id": "WLQIHKmIYJ89"
      },
      "source": [
        "### 前処理\n",
        "\n",
        "データセットから呼び出すときに実施する前処理を記載します。\n",
        "ToTensor()はPILなどで読み出された画像をテンソルに変換します。その際に[0, 1]の範囲に変換されることに注意してください。\n",
        "\n",
        "このままでもよいのですが、Normalize()で平均・分散が0.5を指定して正規化をしています。\n",
        "\n",
        "最後に上で定義したReshape()を使用して(784,)のテンソルに変換しています。"
      ]
    },
    {
      "cell_type": "code",
      "metadata": {
        "id": "cj4MxzcqKNv7"
      },
      "source": [
        "transform = transforms.Compose(\n",
        "    [\n",
        "        transforms.ToTensor(),\n",
        "        transforms.Normalize((0.5,), (0.5,)),\n",
        "        Reshape(),\n",
        "     ])"
      ],
      "execution_count": null,
      "outputs": []
    },
    {
      "cell_type": "markdown",
      "metadata": {
        "id": "YUDDu5rQZQ9u"
      },
      "source": [
        "### データセットの準備\n",
        "\n",
        "MNISTのデータセットを準備します。torchvisionで用意されているクラスがあるので、難しいことはありません。\n",
        "\n",
        "引数にdownload=Trueを与えるだけでダウンロードも実施します。\n",
        "\n",
        "transformに先程定義したtransformのオブジェクトを与えることで、データロードと同時に、予め定義した前処理が実施されます。"
      ]
    },
    {
      "cell_type": "code",
      "metadata": {
        "id": "ImwegcVh2E6l",
        "colab": {
          "base_uri": "https://localhost:8080/",
          "height": 752,
          "referenced_widgets": [
            "22c095fcec0c4d778dfe9003c6eff7f8",
            "9a28d6516b714f9e97477ed78138278b",
            "26bc25aa72804f8aa3a58db2d2719196",
            "819bab8b7a0c4edf823b6eeb1930ecc4",
            "028ad30fff204ece9219794a964f5acc",
            "8990a319c264473a951df17e83d2f295",
            "bee177d0c97e4eb280fdd85caea622e4",
            "b36dd661876c42a49e5fad78635b18c8",
            "a642707ebe3e4b2aa367f379163c832f",
            "b5d95301ef7d4162bf6b8d6bc402e8aa",
            "b356a812ab1d4c5f91a5773fe94f2e58",
            "8d0978545e58418ab2a3cf81c1093192",
            "1b2c6eb4cd874ee99e957bdce7bd6b61",
            "72a0609b76d1428f82f6169575dc7be8",
            "279652e3095046b5834e134840f0b3d1",
            "2fbd08e011084a91a6b0d7552ede3fc2",
            "91ad7e55dded4e948f84ca35492cf6af",
            "f2806991a33e495f8508d690b09ce082",
            "c7e31221f53d4110b3ae6d18714971eb",
            "7503d7b5e3824deab47099d2af3bd265",
            "407b84f4fb1b46139fe4ce542dd47fd1",
            "5d2f0fdef48f4a9f9572413f178db33a",
            "5e90d76680564543a6806d90121191a0",
            "dc1d640c067144d8aea6d224924e96ba",
            "8fa9892d8a974252b09d9960d28ae6b6",
            "3599c8593cba44e0985794e8ac03ff20",
            "7043673d9d454a67b230648d6a587332",
            "6053080a67a3455999a3db94d2bf4e6d",
            "39d3c8cbeb9b4956b1f4112c3a01dac5",
            "369649de05cd43a4a49ce106707a618f",
            "d7d202ebdd184c79bb74443bbb769a1d",
            "0a51b55d043844438b3a266f60e8cc22",
            "e7d4ac3686bb432ab542bdebab05b399",
            "0d7539205b894ffd919def0f63f51f7c",
            "51278994c578464d8860e9921068e87e",
            "d4450d0ffe1e4d1fafb68cf97838b213",
            "8f1e6822719e4098b7bb1c44776cb9f5",
            "84db864b6e2047cead740ab9212ccd28",
            "b7132c886b1248b390b2eb4942d3021b",
            "b5e35a27c5a645c4b0edf44a7f7ff893",
            "515c472814624749b5bd1d29e0eee124",
            "98978bda79ec43c3a23abdf0b7bc1734",
            "103d88fc732348d5b130cef8bc45436c",
            "78ca533bbf5b409bb9727456842bc9e1",
            "1a088fa735cf4bba9baf79df342e21a5",
            "f939eaa05d8f420586281681dc0fd72d",
            "c180712e17b140a1ab9f40c311901641",
            "d7b5be53be0441e1a8b369ff90f15f6d",
            "27194ead99564a1dbd1da2bd2a69477f",
            "71f63695c8494df385c441b7eac7b85f",
            "22851e8fbae7413ba7c2354a4f1e5d76",
            "6a9ebff5152a40c4a76cb4c21fdfd166",
            "f63cb600d91e40a09697aa6c8958ab4d",
            "0d68abba0e2b4aed8c59c0c61dfa0b6f",
            "61c2b7cb502740ada03387a149840a5f",
            "057cde84f3d14286b6746ee106ba57d0",
            "05a5ca8beb9946f18729996f58f57c13",
            "35a5870f442644b0b836539da3c7fc93",
            "78848b342bcf45a184786cac2b12248b",
            "5ecb8209d9c344f8b62cf815eb0fdf4d",
            "bcfd9961ff0c491e9d605ac33a6e2b24",
            "dbb5d68d535d4b89907e15db4806a838",
            "e27fef7e182e48f2aae6eac4898ff28c",
            "1a09d47bcdc840ecaf5cc15cac3325f1"
          ]
        },
        "outputId": "d976b8e3-6ddb-4bd2-c95a-8898719d0d29"
      },
      "source": [
        "train_dataset = MNIST(\n",
        "    root='./data', # データ保存先\n",
        "    train=True, # trainデータセットの場合はTrue, testデータセットの場合はFalseを指定する\n",
        "    download=True,\n",
        "    transform=transform\n",
        ")\n",
        "\n",
        "val_dataset = MNIST(\n",
        "    root='./test',\n",
        "    train=False,\n",
        "    download=True,\n",
        "    transform=transform\n",
        ")"
      ],
      "execution_count": null,
      "outputs": [
        {
          "output_type": "stream",
          "text": [
            "Downloading http://yann.lecun.com/exdb/mnist/train-images-idx3-ubyte.gz to ./data/MNIST/raw/train-images-idx3-ubyte.gz\n"
          ],
          "name": "stdout"
        },
        {
          "output_type": "display_data",
          "data": {
            "application/vnd.jupyter.widget-view+json": {
              "model_id": "22c095fcec0c4d778dfe9003c6eff7f8",
              "version_minor": 0,
              "version_major": 2
            },
            "text/plain": [
              "HBox(children=(FloatProgress(value=1.0, bar_style='info', max=1.0), HTML(value='')))"
            ]
          },
          "metadata": {
            "tags": []
          }
        },
        {
          "output_type": "stream",
          "text": [
            "Extracting ./data/MNIST/raw/train-images-idx3-ubyte.gz to ./data/MNIST/raw\n",
            "Downloading http://yann.lecun.com/exdb/mnist/train-labels-idx1-ubyte.gz to ./data/MNIST/raw/train-labels-idx1-ubyte.gz\n",
            "\n"
          ],
          "name": "stdout"
        },
        {
          "output_type": "display_data",
          "data": {
            "application/vnd.jupyter.widget-view+json": {
              "model_id": "a642707ebe3e4b2aa367f379163c832f",
              "version_minor": 0,
              "version_major": 2
            },
            "text/plain": [
              "HBox(children=(FloatProgress(value=1.0, bar_style='info', max=1.0), HTML(value='')))"
            ]
          },
          "metadata": {
            "tags": []
          }
        },
        {
          "output_type": "stream",
          "text": [
            "Extracting ./data/MNIST/raw/train-labels-idx1-ubyte.gz to ./data/MNIST/raw\n",
            "Downloading http://yann.lecun.com/exdb/mnist/t10k-images-idx3-ubyte.gz to ./data/MNIST/raw/t10k-images-idx3-ubyte.gz\n"
          ],
          "name": "stdout"
        },
        {
          "output_type": "display_data",
          "data": {
            "application/vnd.jupyter.widget-view+json": {
              "model_id": "91ad7e55dded4e948f84ca35492cf6af",
              "version_minor": 0,
              "version_major": 2
            },
            "text/plain": [
              "HBox(children=(FloatProgress(value=1.0, bar_style='info', max=1.0), HTML(value='')))"
            ]
          },
          "metadata": {
            "tags": []
          }
        },
        {
          "output_type": "stream",
          "text": [
            "Extracting ./data/MNIST/raw/t10k-images-idx3-ubyte.gz to ./data/MNIST/raw\n",
            "Downloading http://yann.lecun.com/exdb/mnist/t10k-labels-idx1-ubyte.gz to ./data/MNIST/raw/t10k-labels-idx1-ubyte.gz\n"
          ],
          "name": "stdout"
        },
        {
          "output_type": "display_data",
          "data": {
            "application/vnd.jupyter.widget-view+json": {
              "model_id": "8fa9892d8a974252b09d9960d28ae6b6",
              "version_minor": 0,
              "version_major": 2
            },
            "text/plain": [
              "HBox(children=(FloatProgress(value=1.0, bar_style='info', max=1.0), HTML(value='')))"
            ]
          },
          "metadata": {
            "tags": []
          }
        },
        {
          "output_type": "stream",
          "text": [
            "Extracting ./data/MNIST/raw/t10k-labels-idx1-ubyte.gz to ./data/MNIST/raw\n",
            "Processing...\n",
            "Done!\n",
            "Downloading http://yann.lecun.com/exdb/mnist/train-images-idx3-ubyte.gz to ./test/MNIST/raw/train-images-idx3-ubyte.gz\n",
            "\n",
            "\n"
          ],
          "name": "stdout"
        },
        {
          "output_type": "stream",
          "text": [
            "/usr/local/lib/python3.6/dist-packages/torchvision/datasets/mnist.py:480: UserWarning:\n",
            "\n",
            "The given NumPy array is not writeable, and PyTorch does not support non-writeable tensors. This means you can write to the underlying (supposedly non-writeable) NumPy array using the tensor. You may want to copy the array to protect its data or make it writeable before converting it to a tensor. This type of warning will be suppressed for the rest of this program. (Triggered internally at  /pytorch/torch/csrc/utils/tensor_numpy.cpp:141.)\n",
            "\n"
          ],
          "name": "stderr"
        },
        {
          "output_type": "display_data",
          "data": {
            "application/vnd.jupyter.widget-view+json": {
              "model_id": "e7d4ac3686bb432ab542bdebab05b399",
              "version_minor": 0,
              "version_major": 2
            },
            "text/plain": [
              "HBox(children=(FloatProgress(value=1.0, bar_style='info', max=1.0), HTML(value='')))"
            ]
          },
          "metadata": {
            "tags": []
          }
        },
        {
          "output_type": "stream",
          "text": [
            "Extracting ./test/MNIST/raw/train-images-idx3-ubyte.gz to ./test/MNIST/raw\n",
            "Downloading http://yann.lecun.com/exdb/mnist/train-labels-idx1-ubyte.gz to ./test/MNIST/raw/train-labels-idx1-ubyte.gz\n"
          ],
          "name": "stdout"
        },
        {
          "output_type": "display_data",
          "data": {
            "application/vnd.jupyter.widget-view+json": {
              "model_id": "515c472814624749b5bd1d29e0eee124",
              "version_minor": 0,
              "version_major": 2
            },
            "text/plain": [
              "HBox(children=(FloatProgress(value=1.0, bar_style='info', max=1.0), HTML(value='')))"
            ]
          },
          "metadata": {
            "tags": []
          }
        },
        {
          "output_type": "stream",
          "text": [
            "Extracting ./test/MNIST/raw/train-labels-idx1-ubyte.gz to ./test/MNIST/raw\n",
            "Downloading http://yann.lecun.com/exdb/mnist/t10k-images-idx3-ubyte.gz to ./test/MNIST/raw/t10k-images-idx3-ubyte.gz\n"
          ],
          "name": "stdout"
        },
        {
          "output_type": "display_data",
          "data": {
            "application/vnd.jupyter.widget-view+json": {
              "model_id": "27194ead99564a1dbd1da2bd2a69477f",
              "version_minor": 0,
              "version_major": 2
            },
            "text/plain": [
              "HBox(children=(FloatProgress(value=1.0, bar_style='info', max=1.0), HTML(value='')))"
            ]
          },
          "metadata": {
            "tags": []
          }
        },
        {
          "output_type": "stream",
          "text": [
            "Extracting ./test/MNIST/raw/t10k-images-idx3-ubyte.gz to ./test/MNIST/raw\n",
            "Downloading http://yann.lecun.com/exdb/mnist/t10k-labels-idx1-ubyte.gz to ./test/MNIST/raw/t10k-labels-idx1-ubyte.gz\n"
          ],
          "name": "stdout"
        },
        {
          "output_type": "display_data",
          "data": {
            "application/vnd.jupyter.widget-view+json": {
              "model_id": "05a5ca8beb9946f18729996f58f57c13",
              "version_minor": 0,
              "version_major": 2
            },
            "text/plain": [
              "HBox(children=(FloatProgress(value=1.0, bar_style='info', max=1.0), HTML(value='')))"
            ]
          },
          "metadata": {
            "tags": []
          }
        },
        {
          "output_type": "stream",
          "text": [
            "Extracting ./test/MNIST/raw/t10k-labels-idx1-ubyte.gz to ./test/MNIST/raw\n",
            "Processing...\n",
            "Done!\n"
          ],
          "name": "stdout"
        }
      ]
    },
    {
      "cell_type": "markdown",
      "metadata": {
        "id": "hxBqpf7tZ9DF"
      },
      "source": [
        "### データローダの定義\n",
        "\n",
        "データローダはデータセットのデータをミニバッチにして読み込むときに使用します。\n",
        "**データローダは辞書にする必要があるため、注意しましょう。**key: 'train'に学習用のデータローダ、key: 'valid'に検証用のデータローダを設定します。変えることもできるのですが、デフォルトの設定に合わせています。\n",
        "事前に定義しているバッチサイズ、ロード時に使用するプロセス数などを与えます。引数shuffleはシャッフルするか規定の順番で呼び出すか選べますが、検証データセットはシャッフルしてもしなくても変わらないためFalseに設定しています。"
      ]
    },
    {
      "cell_type": "code",
      "metadata": {
        "id": "ZZX5c6aNLxmr"
      },
      "source": [
        "dataloaders = {\n",
        "    'train': DataLoader(\n",
        "        train_dataset,\n",
        "        batch_size=batch_size,\n",
        "        shuffle=True,\n",
        "        num_workers=num_workers\n",
        "    ),\n",
        "    'valid': DataLoader(\n",
        "        val_dataset,\n",
        "        batch_size=batch_size,\n",
        "        shuffle=False,\n",
        "        num_workers=num_workers\n",
        "    ),\n",
        "}"
      ],
      "execution_count": null,
      "outputs": []
    },
    {
      "cell_type": "markdown",
      "metadata": {
        "id": "3I5lwM05a0mp"
      },
      "source": [
        "## その他オブジェクトの設定\n",
        "\n",
        "criterionには損失関数として、クロスエントロピーを、optimizerにはAdamを、よくあるハイパーパラメータで設定しています。\n",
        "\n",
        "schedulerは10epochsごとに学習率が1/10になるように設定しました。"
      ]
    },
    {
      "cell_type": "code",
      "metadata": {
        "id": "AMaGOgEyLyXq"
      },
      "source": [
        "criterion = nn.CrossEntropyLoss()\n",
        "optimizer = Adam(model.parameters(), lr=0.001, betas=(0.9, 0.999), eps=1e-7, weight_decay=1e-5)\n",
        "scheduler = StepLR(optimizer, step_size=10, gamma=0.1)"
      ],
      "execution_count": null,
      "outputs": []
    },
    {
      "cell_type": "markdown",
      "metadata": {
        "id": "CpD9GbOZbPqU"
      },
      "source": [
        "## Catalystの登場!!\n",
        "\n",
        "これまではPyTorchだけで済む話だったのですが、ここでようやくCatalystが登場します。catalyst.dl.SupervisedRunnerクラスを使用することで、学習コードを書く必要がなくなります。カスタマイズしたい場合はcatalyst.dl.Runnerをオーバーライドすればよいのですが、次回以降に記載します。\n",
        "\n",
        "get_device()ではGoogle ColabのGPUデバイスオブジェクトを取得しています。"
      ]
    },
    {
      "cell_type": "code",
      "metadata": {
        "id": "zz0oahP45l-5"
      },
      "source": [
        "runner = SupervisedRunner(device=get_device())"
      ],
      "execution_count": null,
      "outputs": []
    },
    {
      "cell_type": "markdown",
      "metadata": {
        "id": "_DpkAb1ab-7N"
      },
      "source": [
        "## 学習\n",
        "\n",
        "定義したrunnerを使って学習します。基本は今まで定義したものを渡すだけでよいです。\n",
        "\n",
        "valid_loaderには'valid'を与えていますが、辞書dataloadersの検証用データセットを示すkeyを与えればよいです。defaultは'valid'なので指定不要ですが、学習のため記載しました。\n",
        "\n",
        "callbacksにはAccuracyCallbackを与えています。accuracy_argsを整数nのリストを指定して渡すことで、正解が推論結果のn位以内に含まれている割合を計算します。ここでは[1, 5]を指定しているため、通常の意味の正解率(accuracy01)と、推論結果の5位以内に含まれている割合(accuracy05)がメトリックとして追加されます。\n",
        "\n",
        "main_metricには監視するメトリックを指定します。このメトリックが最善のモデルは保存されます。\n",
        "\n",
        "minimize_metricはクロスエントロピーのように小さいほどよいような指標の場合はTrueを、正解率のように大きいほどよいような指標の場合はFalseを設定します。\n",
        "\n",
        "load_best_on_endをTrueに設定すると、学習後に最善の重みをrunnerにロードします。"
      ]
    },
    {
      "cell_type": "code",
      "metadata": {
        "colab": {
          "base_uri": "https://localhost:8080/"
        },
        "id": "sPDWpnxR6SXz",
        "outputId": "8a93a2a2-3e39-4549-b1a2-97e1933555eb"
      },
      "source": [
        "runner.train(\n",
        "        model=model,\n",
        "        criterion=criterion,\n",
        "        optimizer=optimizer,\n",
        "        scheduler=scheduler,\n",
        "        loaders=dataloaders,\n",
        "        valid_loader=\"valid\", # default\n",
        "        logdir=logdir,\n",
        "        callbacks=[AccuracyCallback(num_classes=num_class, accuracy_args=[1, 5])],\n",
        "        num_epochs=epochs,\n",
        "        main_metric=\"loss\", # default\n",
        "        minimize_metric=True, # default\n",
        "        initial_seed=seed,\n",
        "        verbose=False,\n",
        "        load_best_on_end=True,\n",
        ")"
      ],
      "execution_count": null,
      "outputs": [
        {
          "output_type": "stream",
          "text": [
            "\n",
            "\n",
            "\n",
            "\n",
            "\n",
            "[2021-02-05 14:52:11,106] \n",
            "1/30 * Epoch 1 (_base): lr=0.0010 | momentum=0.9000\n",
            "1/30 * Epoch 1 (train): accuracy01=0.7951 | accuracy05=0.8956 | loss=1.6709\n",
            "1/30 * Epoch 1 (valid): accuracy01=0.9375 | accuracy05=0.9958 | loss=1.5274\n",
            "[2021-02-05 14:52:23,083] \n",
            "2/30 * Epoch 2 (_base): lr=0.0010 | momentum=0.9000\n",
            "2/30 * Epoch 2 (train): accuracy01=0.9403 | accuracy05=0.9963 | loss=1.5242\n",
            "2/30 * Epoch 2 (valid): accuracy01=0.9497 | accuracy05=0.9974 | loss=1.5146\n",
            "[2021-02-05 14:52:34,822] \n",
            "3/30 * Epoch 3 (_base): lr=0.0010 | momentum=0.9000\n",
            "3/30 * Epoch 3 (train): accuracy01=0.9535 | accuracy05=0.9971 | loss=1.5098\n",
            "3/30 * Epoch 3 (valid): accuracy01=0.9574 | accuracy05=0.9977 | loss=1.5054\n",
            "[2021-02-05 14:52:46,634] \n",
            "4/30 * Epoch 4 (_base): lr=0.0010 | momentum=0.9000\n",
            "4/30 * Epoch 4 (train): accuracy01=0.9602 | accuracy05=0.9979 | loss=1.5028\n",
            "4/30 * Epoch 4 (valid): accuracy01=0.9562 | accuracy05=0.9972 | loss=1.5062\n",
            "[2021-02-05 14:52:58,365] \n",
            "5/30 * Epoch 5 (_base): lr=0.0010 | momentum=0.9000\n",
            "5/30 * Epoch 5 (train): accuracy01=0.9642 | accuracy05=0.9982 | loss=1.4987\n",
            "5/30 * Epoch 5 (valid): accuracy01=0.9656 | accuracy05=0.9991 | loss=1.4970\n",
            "[2021-02-05 14:53:10,059] \n",
            "6/30 * Epoch 6 (_base): lr=0.0010 | momentum=0.9000\n",
            "6/30 * Epoch 6 (train): accuracy01=0.9669 | accuracy05=0.9986 | loss=1.4959\n",
            "6/30 * Epoch 6 (valid): accuracy01=0.9696 | accuracy05=0.9987 | loss=1.4920\n",
            "[2021-02-05 14:53:21,694] \n",
            "7/30 * Epoch 7 (_base): lr=0.0010 | momentum=0.9000\n",
            "7/30 * Epoch 7 (train): accuracy01=0.9712 | accuracy05=0.9987 | loss=1.4912\n",
            "7/30 * Epoch 7 (valid): accuracy01=0.9610 | accuracy05=0.9989 | loss=1.5017\n",
            "[2021-02-05 14:53:33,622] \n",
            "8/30 * Epoch 8 (_base): lr=0.0010 | momentum=0.9000\n",
            "8/30 * Epoch 8 (train): accuracy01=0.9715 | accuracy05=0.9987 | loss=1.4906\n",
            "8/30 * Epoch 8 (valid): accuracy01=0.9704 | accuracy05=0.9990 | loss=1.4908\n",
            "[2021-02-05 14:53:45,249] \n",
            "9/30 * Epoch 9 (_base): lr=0.0010 | momentum=0.9000\n",
            "9/30 * Epoch 9 (train): accuracy01=0.9751 | accuracy05=0.9989 | loss=1.4874\n",
            "9/30 * Epoch 9 (valid): accuracy01=0.9730 | accuracy05=0.9996 | loss=1.4893\n",
            "[2021-02-05 14:53:56,995] \n",
            "10/30 * Epoch 10 (_base): lr=0.0001 | momentum=0.9000\n",
            "10/30 * Epoch 10 (train): accuracy01=0.9758 | accuracy05=0.9991 | loss=1.4867\n",
            "10/30 * Epoch 10 (valid): accuracy01=0.9721 | accuracy05=0.9995 | loss=1.4897\n",
            "[2021-02-05 14:54:08,759] \n",
            "11/30 * Epoch 11 (_base): lr=0.0001 | momentum=0.9000\n",
            "11/30 * Epoch 11 (train): accuracy01=0.9842 | accuracy05=0.9992 | loss=1.4776\n",
            "11/30 * Epoch 11 (valid): accuracy01=0.9794 | accuracy05=0.9995 | loss=1.4824\n",
            "[2021-02-05 14:54:20,406] \n",
            "12/30 * Epoch 12 (_base): lr=0.0001 | momentum=0.9000\n",
            "12/30 * Epoch 12 (train): accuracy01=0.9866 | accuracy05=0.9992 | loss=1.4753\n",
            "12/30 * Epoch 12 (valid): accuracy01=0.9787 | accuracy05=0.9996 | loss=1.4830\n",
            "[2021-02-05 14:54:32,168] \n",
            "13/30 * Epoch 13 (_base): lr=0.0001 | momentum=0.9000\n",
            "13/30 * Epoch 13 (train): accuracy01=0.9875 | accuracy05=0.9993 | loss=1.4745\n",
            "13/30 * Epoch 13 (valid): accuracy01=0.9798 | accuracy05=0.9996 | loss=1.4817\n",
            "[2021-02-05 14:54:43,811] \n",
            "14/30 * Epoch 14 (_base): lr=0.0001 | momentum=0.9000\n",
            "14/30 * Epoch 14 (train): accuracy01=0.9884 | accuracy05=0.9993 | loss=1.4738\n",
            "14/30 * Epoch 14 (valid): accuracy01=0.9796 | accuracy05=0.9995 | loss=1.4819\n",
            "[2021-02-05 14:54:55,627] \n",
            "15/30 * Epoch 15 (_base): lr=0.0001 | momentum=0.9000\n",
            "15/30 * Epoch 15 (train): accuracy01=0.9889 | accuracy05=0.9992 | loss=1.4732\n",
            "15/30 * Epoch 15 (valid): accuracy01=0.9808 | accuracy05=0.9996 | loss=1.4816\n",
            "[2021-02-05 14:55:07,595] \n",
            "16/30 * Epoch 16 (_base): lr=0.0001 | momentum=0.9000\n",
            "16/30 * Epoch 16 (train): accuracy01=0.9894 | accuracy05=0.9994 | loss=1.4727\n",
            "16/30 * Epoch 16 (valid): accuracy01=0.9798 | accuracy05=0.9996 | loss=1.4813\n",
            "[2021-02-05 14:55:19,306] \n",
            "17/30 * Epoch 17 (_base): lr=0.0001 | momentum=0.9000\n",
            "17/30 * Epoch 17 (train): accuracy01=0.9899 | accuracy05=0.9993 | loss=1.4724\n",
            "17/30 * Epoch 17 (valid): accuracy01=0.9800 | accuracy05=0.9996 | loss=1.4812\n",
            "[2021-02-05 14:55:31,216] \n",
            "18/30 * Epoch 18 (_base): lr=0.0001 | momentum=0.9000\n",
            "18/30 * Epoch 18 (train): accuracy01=0.9903 | accuracy05=0.9994 | loss=1.4719\n",
            "18/30 * Epoch 18 (valid): accuracy01=0.9800 | accuracy05=0.9994 | loss=1.4816\n",
            "[2021-02-05 14:55:42,865] \n",
            "19/30 * Epoch 19 (_base): lr=0.0001 | momentum=0.9000\n",
            "19/30 * Epoch 19 (train): accuracy01=0.9906 | accuracy05=0.9994 | loss=1.4716\n",
            "19/30 * Epoch 19 (valid): accuracy01=0.9805 | accuracy05=0.9995 | loss=1.4809\n",
            "[2021-02-05 14:55:54,752] \n",
            "20/30 * Epoch 20 (_base): lr=1.000e-05 | momentum=0.9000\n",
            "20/30 * Epoch 20 (train): accuracy01=0.9909 | accuracy05=0.9994 | loss=1.4713\n",
            "20/30 * Epoch 20 (valid): accuracy01=0.9803 | accuracy05=0.9995 | loss=1.4810\n",
            "[2021-02-05 14:56:06,539] \n",
            "21/30 * Epoch 21 (_base): lr=1.000e-05 | momentum=0.9000\n",
            "21/30 * Epoch 21 (train): accuracy01=0.9917 | accuracy05=0.9994 | loss=1.4704\n",
            "21/30 * Epoch 21 (valid): accuracy01=0.9800 | accuracy05=0.9996 | loss=1.4809\n",
            "[2021-02-05 14:56:18,538] \n",
            "22/30 * Epoch 22 (_base): lr=1.000e-05 | momentum=0.9000\n",
            "22/30 * Epoch 22 (train): accuracy01=0.9919 | accuracy05=0.9994 | loss=1.4702\n",
            "22/30 * Epoch 22 (valid): accuracy01=0.9799 | accuracy05=0.9996 | loss=1.4809\n",
            "[2021-02-05 14:56:30,345] \n",
            "23/30 * Epoch 23 (_base): lr=1.000e-05 | momentum=0.9000\n",
            "23/30 * Epoch 23 (train): accuracy01=0.9919 | accuracy05=0.9994 | loss=1.4701\n",
            "23/30 * Epoch 23 (valid): accuracy01=0.9802 | accuracy05=0.9996 | loss=1.4808\n",
            "[2021-02-05 14:56:42,090] \n",
            "24/30 * Epoch 24 (_base): lr=1.000e-05 | momentum=0.9000\n",
            "24/30 * Epoch 24 (train): accuracy01=0.9919 | accuracy05=0.9994 | loss=1.4700\n",
            "24/30 * Epoch 24 (valid): accuracy01=0.9803 | accuracy05=0.9996 | loss=1.4809\n",
            "[2021-02-05 14:56:53,784] \n",
            "25/30 * Epoch 25 (_base): lr=1.000e-05 | momentum=0.9000\n",
            "25/30 * Epoch 25 (train): accuracy01=0.9919 | accuracy05=0.9994 | loss=1.4700\n",
            "25/30 * Epoch 25 (valid): accuracy01=0.9805 | accuracy05=0.9996 | loss=1.4808\n",
            "[2021-02-05 14:57:05,665] \n",
            "26/30 * Epoch 26 (_base): lr=1.000e-05 | momentum=0.9000\n",
            "26/30 * Epoch 26 (train): accuracy01=0.9920 | accuracy05=0.9994 | loss=1.4699\n",
            "26/30 * Epoch 26 (valid): accuracy01=0.9804 | accuracy05=0.9996 | loss=1.4808\n",
            "[2021-02-05 14:57:17,352] \n",
            "27/30 * Epoch 27 (_base): lr=1.000e-05 | momentum=0.9000\n",
            "27/30 * Epoch 27 (train): accuracy01=0.9921 | accuracy05=0.9994 | loss=1.4699\n",
            "27/30 * Epoch 27 (valid): accuracy01=0.9800 | accuracy05=0.9996 | loss=1.4809\n",
            "[2021-02-05 14:57:29,126] \n",
            "28/30 * Epoch 28 (_base): lr=1.000e-05 | momentum=0.9000\n",
            "28/30 * Epoch 28 (train): accuracy01=0.9921 | accuracy05=0.9994 | loss=1.4698\n",
            "28/30 * Epoch 28 (valid): accuracy01=0.9811 | accuracy05=0.9996 | loss=1.4807\n",
            "[2021-02-05 14:57:41,121] \n",
            "29/30 * Epoch 29 (_base): lr=1.000e-05 | momentum=0.9000\n",
            "29/30 * Epoch 29 (train): accuracy01=0.9921 | accuracy05=0.9994 | loss=1.4698\n",
            "29/30 * Epoch 29 (valid): accuracy01=0.9810 | accuracy05=0.9996 | loss=1.4808\n",
            "[2021-02-05 14:57:52,890] \n",
            "30/30 * Epoch 30 (_base): lr=1.000e-06 | momentum=0.9000\n",
            "30/30 * Epoch 30 (train): accuracy01=0.9922 | accuracy05=0.9994 | loss=1.4698\n",
            "30/30 * Epoch 30 (valid): accuracy01=0.9811 | accuracy05=0.9996 | loss=1.4807\n",
            "Top best models:\n",
            "output/checkpoints/train.30.pth\t1.4807\n",
            "=> Loading checkpoint output/checkpoints/best_full.pth\n",
            "loaded state checkpoint output/checkpoints/best_full.pth (global epoch 30, epoch 30, stage train)\n"
          ],
          "name": "stdout"
        }
      ]
    },
    {
      "cell_type": "markdown",
      "metadata": {
        "id": "jHnvzmBvjZkN"
      },
      "source": [
        "## 推論\n",
        "\n",
        "validのデータローダがら読み出して、試しに推論し、結果を表示してみましょう。predict_loader()メソッドにデータローダを与えると推論ができます。SupervisedRunner()を使用した場合、推論結果は辞書で返り、'logits'のkeyで参照ができます。以下では、その結果を10個だけ取り出しました。"
      ]
    },
    {
      "cell_type": "code",
      "metadata": {
        "colab": {
          "base_uri": "https://localhost:8080/"
        },
        "id": "Hdd72Wwne68t",
        "outputId": "351f0939-bf08-40d2-901e-bc20711ee611"
      },
      "source": [
        "predictions = next(runner.predict_loader(loader=dataloaders[\"valid\"]))\n",
        "for i, prediction in enumerate(predictions[\"logits\"]):\n",
        "    prediction = prediction.detach().cpu()\n",
        "    key = torch.argmax(prediction).item()\n",
        "    print(f\"推論結果: {key}, 確信度: {prediction[key]:.3f}\")\n",
        "    if i > 10:\n",
        "        break"
      ],
      "execution_count": null,
      "outputs": [
        {
          "output_type": "stream",
          "text": [
            "推論結果: 7, 確信度: 1.000\n",
            "推論結果: 2, 確信度: 1.000\n",
            "推論結果: 1, 確信度: 1.000\n",
            "推論結果: 0, 確信度: 1.000\n",
            "推論結果: 4, 確信度: 1.000\n",
            "推論結果: 1, 確信度: 1.000\n",
            "推論結果: 4, 確信度: 1.000\n",
            "推論結果: 9, 確信度: 1.000\n",
            "推論結果: 6, 確信度: 0.598\n",
            "推論結果: 9, 確信度: 1.000\n",
            "推論結果: 0, 確信度: 1.000\n",
            "推論結果: 6, 確信度: 1.000\n"
          ],
          "name": "stdout"
        }
      ]
    }
  ]
}